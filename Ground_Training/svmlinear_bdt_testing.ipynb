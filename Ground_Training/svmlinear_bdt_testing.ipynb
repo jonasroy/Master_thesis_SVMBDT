{
 "cells": [
  {
   "cell_type": "code",
   "execution_count": 56,
   "metadata": {},
   "outputs": [],
   "source": [
    "import scipy.io as sc\n",
    "import numpy as np\n",
    "from sklearn.svm import LinearSVC,SVC\n",
    "import copy\n",
    "from sklearn import preprocessing\n",
    "from sklearn.model_selection import train_test_split\n",
    "import matplotlib.pyplot as plt\n",
    "from HelperFunctions_ import *\n",
    "import tables as tab\n",
    "from SVMBDT import *\n",
    "import struct "
   ]
  },
  {
   "cell_type": "code",
   "execution_count": 7,
   "metadata": {},
   "outputs": [
    {
     "ename": "NameError",
     "evalue": "name 'new_trondheim_gt' is not defined",
     "output_type": "error",
     "traceback": [
      "\u001b[1;31m---------------------------------------------------------------------------\u001b[0m",
      "\u001b[1;31mNameError\u001b[0m                                 Traceback (most recent call last)",
      "Cell \u001b[1;32mIn [7], line 12\u001b[0m\n\u001b[0;32m      1\u001b[0m \u001b[39m#Make labels into land, water and clouds \u001b[39;00m\n\u001b[0;32m      2\u001b[0m \u001b[39m#water  = 2\u001b[39;00m\n\u001b[0;32m      3\u001b[0m \u001b[39m#cropland = 3\u001b[39;00m\n\u001b[1;32m   (...)\u001b[0m\n\u001b[0;32m      9\u001b[0m \u001b[39m#cloud = 9\u001b[39;00m\n\u001b[0;32m     10\u001b[0m \u001b[39m#thin_clouds = 10\u001b[39;00m\n\u001b[1;32m---> 12\u001b[0m trondheim_new_labels \u001b[39m=\u001b[39m copy\u001b[39m.\u001b[39mdeepcopy(new_trondheim_gt)\n",
      "\u001b[1;31mNameError\u001b[0m: name 'new_trondheim_gt' is not defined"
     ]
    }
   ],
   "source": [
    "#Make labels into land, water and clouds \n",
    "#water  = 2\n",
    "#cropland = 3\n",
    "#pasture = 4\n",
    "#city = 5\n",
    "#rock = 6\n",
    "#thin_forest = 7\n",
    "#thick_forest = 8 \n",
    "#cloud = 9\n",
    "#thin_clouds = 10\n",
    "\n",
    "#trondheim_new_labels = copy.deepcopy(new_trondheim_gt)\n",
    "\n",
    "#trondheim_new_labels[trondheim_new_labels == 10] = 9\n",
    "#trondheim_new_labels[trondheim_new_labels == 9] = 2\n",
    "\n",
    "#nl = [4,5,6,7,8]\n",
    "\n",
    "#for i in range(len(nl)):\n",
    "#        trondheim_new_labels[trondheim_new_labels == nl[i]] = 3"
   ]
  },
  {
   "cell_type": "code",
   "execution_count": 8,
   "metadata": {},
   "outputs": [],
   "source": [
    "trondheim_data = plt.imread(\"../Training_data/Trondheim_2022_08_23T10_26_43-bin3.png\")\n",
    "trondheim_gt = np.load(\"../Training_data/Trondheim_labels_2022-08-23.npz\")[\"labels\"]"
   ]
  },
  {
   "cell_type": "code",
   "execution_count": 9,
   "metadata": {},
   "outputs": [],
   "source": [
    "#Preprocess the labeling \n",
    "\n",
    "new_trondheim_gt = []\n",
    "y = trondheim_gt.flatten()\n",
    "\n",
    "for i in range(0,len(y),3): \n",
    "    new_trondheim_gt.append(y[i])\n",
    "\n",
    "new_trondheim_gt = np.array(new_trondheim_gt)"
   ]
  },
  {
   "cell_type": "code",
   "execution_count": 10,
   "metadata": {},
   "outputs": [],
   "source": [
    "def rotate_image(image): \n",
    "    rotated_image = []\n",
    "    for i in range(len(image[0])): \n",
    "        x_array = []\n",
    "        for j in range(len(image)-1,-1,-1):\n",
    "            x_array.append(image[j][i])\n",
    "        rotated_image.append(x_array)\n",
    "\n",
    "    return np.array(rotated_image)"
   ]
  },
  {
   "cell_type": "code",
   "execution_count": 39,
   "metadata": {},
   "outputs": [
    {
     "data": {
      "text/plain": [
       "array([ 2,  3,  9, 10], dtype=int16)"
      ]
     },
     "execution_count": 39,
     "metadata": {},
     "output_type": "execute_result"
    }
   ],
   "source": [
    "#Make labels into land, water and clouds \n",
    "#water  = 2\n",
    "#cropland = 3\n",
    "#pasture = 4\n",
    "#city = 5\n",
    "#rock = 6\n",
    "#thin_forest = 7\n",
    "#thick_forest = 8 \n",
    "#cloud = 9\n",
    "#thin_clouds = 10\n",
    "\n",
    "trondheim_new_labels = copy.deepcopy(new_trondheim_gt)\n",
    "\n",
    "\n",
    "#trondheim_new_labels[trondheim_new_labels == 10] = 9\n",
    "#trondheim_new_labels[trondheim_new_labels == 9] = 3\n",
    "\n",
    "nl = [4,5,6,7,8]\n",
    "\n",
    "for i in range(len(nl)):\n",
    "        trondheim_new_labels[trondheim_new_labels == nl[i]] = 3\n",
    "\n",
    "classesInLabels(trondheim_new_labels)"
   ]
  },
  {
   "cell_type": "code",
   "execution_count": 40,
   "metadata": {},
   "outputs": [],
   "source": [
    "new_trondheim = rotate_image(trondheim_data)"
   ]
  },
  {
   "cell_type": "code",
   "execution_count": 54,
   "metadata": {},
   "outputs": [],
   "source": [
    "#Finding path names \n",
    "Mjosa_data = split_dataset_paths(\"../../2022_07_11_Mjosa/2022_07_11_Mjosa/\", [\"he5\", \"csv\", \"jpg\"])"
   ]
  },
  {
   "cell_type": "code",
   "execution_count": 58,
   "metadata": {},
   "outputs": [],
   "source": [
    "#Amount of dataset should be handled\n",
    "N_datasets = 4\n",
    "\n",
    "#Open files \n",
    "open_files_array = []\n",
    "for i in range(N_datasets):\n",
    "    file = tab.open_file(Mjosa_data[\"he5\"][i])\n",
    "    open_files_array.append(file.get_node(\"/HDFEOS/SWATHS/PRS_L1_HCO/\")['Data Fields']['VNIR_Cube'][:,5:,:])\n",
    "\n",
    "#Load the labels \n",
    "load_labels_array = []\n",
    "for i in range(N_datasets):\n",
    "    file = Mjosa_data[\"csv\"][i]\n",
    "    load_labels_array.append(np.loadtxt(file, dtype=np.ubyte))"
   ]
  },
  {
   "cell_type": "code",
   "execution_count": 59,
   "metadata": {},
   "outputs": [],
   "source": [
    "data = open_files_array[1]\n",
    "labels = load_labels_array[1]"
   ]
  },
  {
   "cell_type": "code",
   "execution_count": 102,
   "metadata": {},
   "outputs": [],
   "source": [
    "# 1) Spruce, 2) Pine , 3) Decidous (leaf), 4) Water, 5) Clouds, and 0) other\n",
    "labels[labels == 3] = 1 \n",
    "labels[labels == 2] = 1 "
   ]
  },
  {
   "cell_type": "code",
   "execution_count": 86,
   "metadata": {},
   "outputs": [],
   "source": [
    "f1 = tab.open_file(\"../../2022_07_11_Mjosa/2022_07_11_Mjosa/PRS_L1_STD_OFFL_20220711104640_20220711104644_0001.he5\")\n",
    "\n",
    "d3 = f1.get_node(\"/HDFEOS/SWATHS/PRS_L1_HRC/\")\n",
    "\n",
    "mjosa_new_cube = np.zeros((1000,1000,3))\n",
    "mjosa_new_cube[:,:,0] = d3['Data Fields']['VNIR_Cube'][:,31,:]\n",
    "mjosa_new_cube[:,:,1] = d3['Data Fields']['VNIR_Cube'][:,43,:]\n",
    "mjosa_new_cube[:,:,2] = d3['Data Fields']['VNIR_Cube'][:,56,:]\n",
    "mjosa_new_cube /= mjosa_new_cube.max()/2\n",
    "mjosa_new_cube[mjosa_new_cube > 1 ] = 1"
   ]
  },
  {
   "cell_type": "code",
   "execution_count": null,
   "metadata": {},
   "outputs": [],
   "source": [
    "\n",
    "plt.imshow(np.array(mjosa_new_cube))\n",
    "plt.axis('off')\n",
    "#plt.legend(handles=patches, bbox_to_anchor=(1.05, 1), loc=2, borderaxespad=0. )\n",
    "plt.savefig(\"Mjosa_data\", dpi = 300, bbox_inches=\"tight\")\n",
    "plt.close()"
   ]
  },
  {
   "cell_type": "code",
   "execution_count": 103,
   "metadata": {},
   "outputs": [],
   "source": [
    "X,y = preprocessing_data(mjosa_new_cube,labels,3)"
   ]
  },
  {
   "cell_type": "code",
   "execution_count": 108,
   "metadata": {},
   "outputs": [
    {
     "data": {
      "text/plain": [
       "array([0, 1, 4, 5], dtype=uint8)"
      ]
     },
     "execution_count": 108,
     "metadata": {},
     "output_type": "execute_result"
    }
   ],
   "source": [
    "classesInLabels(y)"
   ]
  },
  {
   "cell_type": "code",
   "execution_count": 105,
   "metadata": {},
   "outputs": [],
   "source": [
    "#X = np.array(new_trondheim).reshape((-1,3))\n",
    "#X = preprocessing.scale(X, axis=0)\n",
    "#y = trondheim_new_labels.flatten()\n",
    "\n",
    "X_train, X_test, y_train, y_test = train_test_split(X,y, test_size=0.95, random_state=1)"
   ]
  },
  {
   "cell_type": "code",
   "execution_count": 106,
   "metadata": {},
   "outputs": [],
   "source": [
    "tb = {0 : [[3,9,10],[2]], 1 : [[[3],[9,10]],[]], 2 : [[[9],[10]],[]]}\n",
    "svm_tb = {0 : LinearSVC(), 1 : [LinearSVC(), False] , 2 : [LinearSVC(), False]}\n",
    "svm_branch_models = SvmDesionTreeTrain(X_train, y_train, tb, svm_tb)"
   ]
  },
  {
   "cell_type": "code",
   "execution_count": 109,
   "metadata": {},
   "outputs": [
    {
     "name": "stdout",
     "output_type": "stream",
     "text": [
      "The training time is: 28.414 sec.\n"
     ]
    }
   ],
   "source": [
    "# 1) Spruce, 2) Pine , 3) Decidous (leaf), 4) Water, 5) Clouds, and 0) other\n",
    "#tb = {0 : [[4],[0,1,2,3,5]], 1 : [[],[[5],[0,1,2,3]]], 2 : [[],[[0],[1,2,3]]], 3 : [[],[[1],[2,3]]], 4 : [[],[[2],[3]]]}\n",
    "\n",
    "iter = 1e5\n",
    "\n",
    "\"\"\"\n",
    "sbm = {0 : LinearSVC(class_weight= \"balanced\", max_iter=iter),\n",
    "       1 : [False, LinearSVC(class_weight= \"balanced\", max_iter=iter)], \n",
    "       2 : [False, LinearSVC(class_weight= \"balanced\", max_iter=iter)],\n",
    "       3 : [False, LinearSVC(class_weight= \"balanced\", max_iter=iter)], \n",
    "       4 : [False, LinearSVC(class_weight= \"balanced\", max_iter=iter)]}\n",
    "\"\"\"\n",
    "tb = {0 : [[4],[0,1,5]], 1 : [[],[[0],[1,5]]], 2 : [[],[[1],[5]]]}\n",
    "\n",
    "sbm = {0 : LinearSVC(class_weight= \"balanced\", max_iter=iter),\n",
    "       1 : [False, LinearSVC(class_weight= \"balanced\", max_iter=iter)], \n",
    "       2 : [False, LinearSVC(class_weight= \"balanced\", max_iter=iter)]}\n",
    "\n",
    "\n",
    "svm_tree_branches = SvmDesionTreeTrain(X_train, y_train, tb, sbm)"
   ]
  },
  {
   "cell_type": "code",
   "execution_count": 110,
   "metadata": {},
   "outputs": [],
   "source": [
    "test_name = \"vigo_2023-02-09_1106Z-bin3.png\"\n",
    "test_data = plt.imread(\"../Training_data/\" + test_name)"
   ]
  },
  {
   "cell_type": "code",
   "execution_count": 111,
   "metadata": {},
   "outputs": [
    {
     "name": "stderr",
     "output_type": "stream",
     "text": [
      "C:\\Users\\jonas\\AppData\\Local\\Packages\\PythonSoftwareFoundation.Python.3.10_qbz5n2kfra8p0\\LocalCache\\local-packages\\Python310\\site-packages\\sklearn\\preprocessing\\_data.py:239: UserWarning: Numerical issues were encountered when centering the data and might not be solved. Dataset may contain too large values. You may need to prescale your features.\n",
      "  warnings.warn(\n",
      "C:\\Users\\jonas\\AppData\\Local\\Packages\\PythonSoftwareFoundation.Python.3.10_qbz5n2kfra8p0\\LocalCache\\local-packages\\Python310\\site-packages\\sklearn\\preprocessing\\_data.py:258: UserWarning: Numerical issues were encountered when scaling the data and might not be solved. The standard deviation of the data is probably very close to 0. \n",
      "  warnings.warn(\n"
     ]
    }
   ],
   "source": [
    "X_test = np.array(test_data).reshape((-1,3))\n",
    "X_test = preprocessing.scale(X_test, axis=0)"
   ]
  },
  {
   "cell_type": "code",
   "execution_count": 112,
   "metadata": {},
   "outputs": [
    {
     "name": "stdout",
     "output_type": "stream",
     "text": [
      "The first branch: 0.005\n",
      "The prediction time is: 0.599 sec.\n"
     ]
    }
   ],
   "source": [
    "pl = SvmDesionTreePredict(X_test, svm_tree_branches, tb, sub_data = 0)"
   ]
  },
  {
   "cell_type": "code",
   "execution_count": 113,
   "metadata": {},
   "outputs": [],
   "source": [
    "plt.imshow(pl.reshape(len(test_data),len(test_data[0])))\n",
    "plt.axis('off')\n",
    "plt.savefig(\"../Z_Labeled_HYSPO_Data/\" + test_name.split(\".\")[0] + \"labeled\", dpi = 300, bbox_inches=\"tight\")\n",
    "plt.close()"
   ]
  },
  {
   "cell_type": "code",
   "execution_count": 4,
   "metadata": {},
   "outputs": [
    {
     "name": "stdout",
     "output_type": "stream",
     "text": [
      "0\n"
     ]
    }
   ],
   "source": [
    "0 : 01\n",
    "1 : 02\n",
    "2 : 03\n",
    "3 : 04\n",
    "...\n",
    "15 : 016 \n",
    "16 : 10\n",
    "17 : 11\n",
    "18 : 12 \n",
    "\n",
    "\n",
    "\n"
   ]
  },
  {
   "cell_type": "code",
   "execution_count": 76,
   "metadata": {},
   "outputs": [
    {
     "data": {
      "text/plain": [
       "1"
      ]
     },
     "execution_count": 76,
     "metadata": {},
     "output_type": "execute_result"
    }
   ],
   "source": [
    "num = 17\n",
    "(num%16) "
   ]
  },
  {
   "cell_type": "code",
   "execution_count": null,
   "metadata": {},
   "outputs": [],
   "source": [
    "def int_to_svm_name(num): \n",
    "    \n",
    "    first_num = \n",
    "    second_num = num%16 \n",
    "\n",
    "    return 0 "
   ]
  },
  {
   "cell_type": "code",
   "execution_count": 129,
   "metadata": {},
   "outputs": [
    {
     "name": "stdout",
     "output_type": "stream",
     "text": [
      "0.6699931334401464\n"
     ]
    }
   ],
   "source": [
    "def float_to_int_delta(value, byte): \n",
    "    delta = 2/(pow(2,8*byte)-1)\n",
    "    return int(value/delta) \n",
    "\n",
    "def int_to_float_delta(value, byte): \n",
    "    delta = 2/(pow(2,8*byte)-1)\n",
    "    return value*delta\n",
    "\n",
    "\n"
   ]
  },
  {
   "cell_type": "code",
   "execution_count": null,
   "metadata": {},
   "outputs": [],
   "source": [
    "def training_data_to_binary_file_2_byte(file_path ,modus, class_1, class_2, b, w_i):\n",
    "    #svm_model format: [class1, class2, b, w_i[]]\n",
    "\n",
    "    #Modus: type of svm model. Linear, rbf, sparse etc.\n",
    "\n",
    "    svm_model_name = \"\"\n",
    "\n",
    "    if(modus == 0): \n",
    "        svm_model_name = \"lsm\" + str(class_1) + str(class_2)\n",
    "\n",
    "    file = open(file_path + svm_model_name + \".bin\", \"wb\")    \n",
    "    \n",
    "    buf = struct.pack(\"BB\", class_1, class_2)\n",
    "\n",
    "    file.write(buf)\n",
    "\n",
    "    buf = struct.pack(i'{len([b])}i', *[b])\n",
    "\n",
    "    file.write(buf)\n",
    "\n",
    "    buf = struct.pack(i'{len(w_i)}i', *w_i)\n",
    "\n",
    "    file.write(buf)\n",
    "\n",
    "    file.close()"
   ]
  }
 ],
 "metadata": {
  "kernelspec": {
   "display_name": "Python 3",
   "language": "python",
   "name": "python3"
  },
  "language_info": {
   "codemirror_mode": {
    "name": "ipython",
    "version": 3
   },
   "file_extension": ".py",
   "mimetype": "text/x-python",
   "name": "python",
   "nbconvert_exporter": "python",
   "pygments_lexer": "ipython3",
   "version": "3.10.10"
  },
  "orig_nbformat": 4,
  "vscode": {
   "interpreter": {
    "hash": "059b92ebffe316512df3810dcdd9739bd5d694b60baa1e9e8136193b1cf34557"
   }
  }
 },
 "nbformat": 4,
 "nbformat_minor": 2
}
