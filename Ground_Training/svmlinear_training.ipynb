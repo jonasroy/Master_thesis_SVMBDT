{
 "cells": [
  {
   "cell_type": "code",
   "execution_count": 1,
   "metadata": {},
   "outputs": [],
   "source": [
    "import scipy.io as sc\n",
    "import numpy as np\n",
    "from sklearn.svm import LinearSVC,SVC\n",
    "import copy\n",
    "from sklearn import preprocessing\n",
    "from sklearn.model_selection import train_test_split\n",
    "import matplotlib.pyplot as plt\n",
    "from HelperFunctions_ import classesInLabels\n",
    "\n",
    "from SVMBDT import *"
   ]
  },
  {
   "cell_type": "code",
   "execution_count": 2,
   "metadata": {},
   "outputs": [],
   "source": [
    "#Produce binary file from the training data \n",
    "\n",
    "def create_binary_file_for_svm_models(filname, svm_model):\n",
    "    \"\"\"\n",
    "\n",
    "    Data structure: \n",
    "        svm_modus : uint8_t  [svm_linear, svm_rbf, svm_sparse] *Only svm_linear implemented yet \n",
    "        class_1 : uint8_t \n",
    "        class_2 : uint8_t \n",
    "        n_features (spectral bands) : uint8_t\n",
    "        b coefficent : uint8_t \n",
    "        w weight array[] : floats\n",
    "    \"\"\"\n",
    "\n",
    "    \n",
    "\n",
    "\n",
    "\n",
    "\n",
    "    import struct \n",
    "    import numpy\n",
    "\n",
    "    svm_modus = [\"svm_linear\", \"svm_rbf\", \"svm_sparse\"]\n",
    "\n",
    "    class_1 = 0\n",
    "    class_2 = 0\n",
    "\n",
    "    try: \n",
    "        class_1 = svm.classes_[0]\n",
    "        class_2 = svm.classes_[1]\n",
    "    except: \n",
    "        print(\"svm.classes_ not defined\")\n",
    "\n",
    "    w_weights = svm_model.class_weigths\n",
    "    n_features = len(w_weights)"
   ]
  },
  {
   "cell_type": "code",
   "execution_count": 9,
   "metadata": {},
   "outputs": [],
   "source": [
    "#Make labels into land, water and clouds \n",
    "#water  = 2\n",
    "#cropland = 3\n",
    "#pasture = 4\n",
    "#city = 5\n",
    "#rock = 6\n",
    "#thin_forest = 7\n",
    "#thick_forest = 8 \n",
    "#cloud = 9\n",
    "#thin_clouds = 10\n",
    "\n",
    "trondheim_new_labels = copy.deepcopy(new_trondheim_gt)\n",
    "\n",
    "#trondheim_new_labels[trondheim_new_labels == 10] = 9\n",
    "#trondheim_new_labels[trondheim_new_labels == 9] = 2\n",
    "\n",
    "#nl = [4,5,6,7,8]\n",
    "\n",
    "#for i in range(len(nl)):\n",
    "#        trondheim_new_labels[trondheim_new_labels == nl[i]] = 3"
   ]
  },
  {
   "cell_type": "code",
   "execution_count": 4,
   "metadata": {},
   "outputs": [],
   "source": [
    "trondheim_data = plt.imread(\"../Training_data/Trondheim_2022_08_23T10_26_43-bin3.png\")\n",
    "trondheim_gt = np.load(\"../Training_data/Trondheim_labels_2022-08-23.npz\")[\"labels\"]"
   ]
  },
  {
   "cell_type": "code",
   "execution_count": null,
   "metadata": {},
   "outputs": [],
   "source": []
  },
  {
   "cell_type": "code",
   "execution_count": 5,
   "metadata": {},
   "outputs": [],
   "source": [
    "#Preprocess the labeling \n",
    "\n",
    "new_trondheim_gt = []\n",
    "y = trondheim_gt.flatten()\n",
    "\n",
    "for i in range(0,len(y),3): \n",
    "    new_trondheim_gt.append(y[i])\n",
    "\n",
    "new_trondheim_gt = np.array(new_trondheim_gt)"
   ]
  },
  {
   "cell_type": "code",
   "execution_count": 6,
   "metadata": {},
   "outputs": [],
   "source": [
    "def rotate_image(image): \n",
    "    rotated_image = []\n",
    "    for i in range(len(image[0])): \n",
    "        x_array = []\n",
    "        for j in range(len(image)-1,-1,-1):\n",
    "            x_array.append(image[j][i])\n",
    "        rotated_image.append(x_array)\n",
    "\n",
    "    return np.array(rotated_image)"
   ]
  },
  {
   "cell_type": "code",
   "execution_count": 7,
   "metadata": {},
   "outputs": [
    {
     "data": {
      "text/plain": [
       "array([2, 3, 9], dtype=int16)"
      ]
     },
     "execution_count": 7,
     "metadata": {},
     "output_type": "execute_result"
    }
   ],
   "source": [
    "#Make labels into land, water and clouds \n",
    "#water  = 2\n",
    "#cropland = 3\n",
    "#pasture = 4\n",
    "#city = 5\n",
    "#rock = 6\n",
    "#thin_forest = 7\n",
    "#thick_forest = 8 \n",
    "#cloud = 9\n",
    "#thin_clouds = 10\n",
    "\n",
    "trondheim_new_labels = copy.deepcopy(new_trondheim_gt)\n",
    "\n",
    "\n",
    "trondheim_new_labels[trondheim_new_labels == 10] = 9\n",
    "#trondheim_new_labels[trondheim_new_labels == 9] = 3\n",
    "\n",
    "nl = [4,5,6,7,8]\n",
    "\n",
    "for i in range(len(nl)):\n",
    "        trondheim_new_labels[trondheim_new_labels == nl[i]] = 3\n",
    "\n",
    "classesInLabels(trondheim_new_labels)\n",
    "\n",
    "\n",
    "\n",
    "\n",
    "\n"
   ]
  },
  {
   "cell_type": "code",
   "execution_count": 11,
   "metadata": {},
   "outputs": [],
   "source": [
    "new_trondheim = rotate_image(trondheim_data)"
   ]
  },
  {
   "cell_type": "code",
   "execution_count": 12,
   "metadata": {},
   "outputs": [
    {
     "name": "stderr",
     "output_type": "stream",
     "text": [
      "C:\\Users\\jonas\\AppData\\Local\\Packages\\PythonSoftwareFoundation.Python.3.10_qbz5n2kfra8p0\\LocalCache\\local-packages\\Python310\\site-packages\\sklearn\\preprocessing\\_data.py:239: UserWarning: Numerical issues were encountered when centering the data and might not be solved. Dataset may contain too large values. You may need to prescale your features.\n",
      "  warnings.warn(\n",
      "C:\\Users\\jonas\\AppData\\Local\\Packages\\PythonSoftwareFoundation.Python.3.10_qbz5n2kfra8p0\\LocalCache\\local-packages\\Python310\\site-packages\\sklearn\\preprocessing\\_data.py:258: UserWarning: Numerical issues were encountered when scaling the data and might not be solved. The standard deviation of the data is probably very close to 0. \n",
      "  warnings.warn(\n"
     ]
    }
   ],
   "source": [
    "X = np.array(new_trondheim).reshape((-1,3))\n",
    "X = preprocessing.scale(X, axis=0)\n",
    "y = trondheim_new_labels.flatten()\n",
    "\n",
    "X_train, X_test, y_train, y_test = train_test_split(X,y, test_size=0.95, random_state=1)"
   ]
  },
  {
   "cell_type": "code",
   "execution_count": 301,
   "metadata": {},
   "outputs": [
    {
     "name": "stdout",
     "output_type": "stream",
     "text": [
      "The training time is: 0.012 sec.\n"
     ]
    }
   ],
   "source": [
    "tb = {0 : [[3,9],[2]], 1 : [[[3],[9]],[]]}\n",
    "svm_tb = {0 : LinearSVC(), 1 : [LinearSVC(), False]}\n",
    "svm_branch_models = SvmDesionTreeTrain(X_train, y_train, tb, svm_tb)"
   ]
  },
  {
   "cell_type": "code",
   "execution_count": 302,
   "metadata": {},
   "outputs": [],
   "source": [
    "svm_00 = svm_branch_models[0]\n",
    "svm_10 = svm_branch_models[1][0]"
   ]
  },
  {
   "cell_type": "code",
   "execution_count": 303,
   "metadata": {},
   "outputs": [
    {
     "data": {
      "text/plain": [
       "array([3, 9], dtype=int16)"
      ]
     },
     "execution_count": 303,
     "metadata": {},
     "output_type": "execute_result"
    }
   ],
   "source": [
    "svm_10.classes_"
   ]
  },
  {
   "cell_type": "code",
   "execution_count": 304,
   "metadata": {},
   "outputs": [],
   "source": [
    "new_trondheim = rotate_image(trondheim_data)"
   ]
  },
  {
   "cell_type": "code",
   "execution_count": 305,
   "metadata": {},
   "outputs": [],
   "source": [
    "plt.imshow(trondheim_new_labels.reshape(956,228))\n",
    "plt.axis('off')\n",
    "plt.savefig(\"Tronhdeim_few_labels\", dpi = 300, bbox_inches=\"tight\")\n",
    "plt.close()"
   ]
  },
  {
   "cell_type": "code",
   "execution_count": 306,
   "metadata": {},
   "outputs": [
    {
     "name": "stderr",
     "output_type": "stream",
     "text": [
      "C:\\Users\\jonas\\AppData\\Local\\Packages\\PythonSoftwareFoundation.Python.3.10_qbz5n2kfra8p0\\LocalCache\\local-packages\\Python310\\site-packages\\sklearn\\preprocessing\\_data.py:239: UserWarning: Numerical issues were encountered when centering the data and might not be solved. Dataset may contain too large values. You may need to prescale your features.\n",
      "  warnings.warn(\n",
      "C:\\Users\\jonas\\AppData\\Local\\Packages\\PythonSoftwareFoundation.Python.3.10_qbz5n2kfra8p0\\LocalCache\\local-packages\\Python310\\site-packages\\sklearn\\preprocessing\\_data.py:258: UserWarning: Numerical issues were encountered when scaling the data and might not be solved. The standard deviation of the data is probably very close to 0. \n",
      "  warnings.warn(\n"
     ]
    }
   ],
   "source": [
    "X = np.array(new_trondheim).reshape((-1,3))\n",
    "X = preprocessing.scale(X, axis=0)\n",
    "y = trondheim_new_labels.flatten()\n",
    "\n",
    "X_train, X_test, y_train, y_test = train_test_split(X,y, test_size=0.95, random_state=1)"
   ]
  },
  {
   "cell_type": "code",
   "execution_count": 307,
   "metadata": {},
   "outputs": [
    {
     "name": "stderr",
     "output_type": "stream",
     "text": [
      "C:\\Users\\jonas\\AppData\\Local\\Packages\\PythonSoftwareFoundation.Python.3.10_qbz5n2kfra8p0\\LocalCache\\local-packages\\Python310\\site-packages\\sklearn\\svm\\_base.py:1225: ConvergenceWarning: Liblinear failed to converge, increase the number of iterations.\n",
      "  warnings.warn(\n"
     ]
    },
    {
     "data": {
      "text/html": [
       "<style>#sk-container-id-3 {color: black;background-color: white;}#sk-container-id-3 pre{padding: 0;}#sk-container-id-3 div.sk-toggleable {background-color: white;}#sk-container-id-3 label.sk-toggleable__label {cursor: pointer;display: block;width: 100%;margin-bottom: 0;padding: 0.3em;box-sizing: border-box;text-align: center;}#sk-container-id-3 label.sk-toggleable__label-arrow:before {content: \"▸\";float: left;margin-right: 0.25em;color: #696969;}#sk-container-id-3 label.sk-toggleable__label-arrow:hover:before {color: black;}#sk-container-id-3 div.sk-estimator:hover label.sk-toggleable__label-arrow:before {color: black;}#sk-container-id-3 div.sk-toggleable__content {max-height: 0;max-width: 0;overflow: hidden;text-align: left;background-color: #f0f8ff;}#sk-container-id-3 div.sk-toggleable__content pre {margin: 0.2em;color: black;border-radius: 0.25em;background-color: #f0f8ff;}#sk-container-id-3 input.sk-toggleable__control:checked~div.sk-toggleable__content {max-height: 200px;max-width: 100%;overflow: auto;}#sk-container-id-3 input.sk-toggleable__control:checked~label.sk-toggleable__label-arrow:before {content: \"▾\";}#sk-container-id-3 div.sk-estimator input.sk-toggleable__control:checked~label.sk-toggleable__label {background-color: #d4ebff;}#sk-container-id-3 div.sk-label input.sk-toggleable__control:checked~label.sk-toggleable__label {background-color: #d4ebff;}#sk-container-id-3 input.sk-hidden--visually {border: 0;clip: rect(1px 1px 1px 1px);clip: rect(1px, 1px, 1px, 1px);height: 1px;margin: -1px;overflow: hidden;padding: 0;position: absolute;width: 1px;}#sk-container-id-3 div.sk-estimator {font-family: monospace;background-color: #f0f8ff;border: 1px dotted black;border-radius: 0.25em;box-sizing: border-box;margin-bottom: 0.5em;}#sk-container-id-3 div.sk-estimator:hover {background-color: #d4ebff;}#sk-container-id-3 div.sk-parallel-item::after {content: \"\";width: 100%;border-bottom: 1px solid gray;flex-grow: 1;}#sk-container-id-3 div.sk-label:hover label.sk-toggleable__label {background-color: #d4ebff;}#sk-container-id-3 div.sk-serial::before {content: \"\";position: absolute;border-left: 1px solid gray;box-sizing: border-box;top: 0;bottom: 0;left: 50%;z-index: 0;}#sk-container-id-3 div.sk-serial {display: flex;flex-direction: column;align-items: center;background-color: white;padding-right: 0.2em;padding-left: 0.2em;position: relative;}#sk-container-id-3 div.sk-item {position: relative;z-index: 1;}#sk-container-id-3 div.sk-parallel {display: flex;align-items: stretch;justify-content: center;background-color: white;position: relative;}#sk-container-id-3 div.sk-item::before, #sk-container-id-3 div.sk-parallel-item::before {content: \"\";position: absolute;border-left: 1px solid gray;box-sizing: border-box;top: 0;bottom: 0;left: 50%;z-index: -1;}#sk-container-id-3 div.sk-parallel-item {display: flex;flex-direction: column;z-index: 1;position: relative;background-color: white;}#sk-container-id-3 div.sk-parallel-item:first-child::after {align-self: flex-end;width: 50%;}#sk-container-id-3 div.sk-parallel-item:last-child::after {align-self: flex-start;width: 50%;}#sk-container-id-3 div.sk-parallel-item:only-child::after {width: 0;}#sk-container-id-3 div.sk-dashed-wrapped {border: 1px dashed gray;margin: 0 0.4em 0.5em 0.4em;box-sizing: border-box;padding-bottom: 0.4em;background-color: white;}#sk-container-id-3 div.sk-label label {font-family: monospace;font-weight: bold;display: inline-block;line-height: 1.2em;}#sk-container-id-3 div.sk-label-container {text-align: center;}#sk-container-id-3 div.sk-container {/* jupyter's `normalize.less` sets `[hidden] { display: none; }` but bootstrap.min.css set `[hidden] { display: none !important; }` so we also need the `!important` here to be able to override the default hidden behavior on the sphinx rendered scikit-learn.org. See: https://github.com/scikit-learn/scikit-learn/issues/21755 */display: inline-block !important;position: relative;}#sk-container-id-3 div.sk-text-repr-fallback {display: none;}</style><div id=\"sk-container-id-3\" class=\"sk-top-container\"><div class=\"sk-text-repr-fallback\"><pre>LinearSVC()</pre><b>In a Jupyter environment, please rerun this cell to show the HTML representation or trust the notebook. <br />On GitHub, the HTML representation is unable to render, please try loading this page with nbviewer.org.</b></div><div class=\"sk-container\" hidden><div class=\"sk-item\"><div class=\"sk-estimator sk-toggleable\"><input class=\"sk-toggleable__control sk-hidden--visually\" id=\"sk-estimator-id-3\" type=\"checkbox\" checked><label for=\"sk-estimator-id-3\" class=\"sk-toggleable__label sk-toggleable__label-arrow\">LinearSVC</label><div class=\"sk-toggleable__content\"><pre>LinearSVC()</pre></div></div></div></div></div>"
      ],
      "text/plain": [
       "LinearSVC()"
      ]
     },
     "execution_count": 307,
     "metadata": {},
     "output_type": "execute_result"
    }
   ],
   "source": [
    "svm = LinearSVC()\n",
    "svm.fit(X_train, y_train)"
   ]
  },
  {
   "cell_type": "code",
   "execution_count": 341,
   "metadata": {},
   "outputs": [],
   "source": [
    "#Test pictures\n",
    "\"../Training_data/venice_2023-02-08_0944Z-bin3.png\"\n",
    "\n",
    "test_name = \"venice_2023-02-08_0944Z-bin3.png\"\n",
    "test_data = plt.imread(\"../Training_data/\" + test_name)"
   ]
  },
  {
   "cell_type": "code",
   "execution_count": 342,
   "metadata": {},
   "outputs": [
    {
     "name": "stderr",
     "output_type": "stream",
     "text": [
      "C:\\Users\\jonas\\AppData\\Local\\Packages\\PythonSoftwareFoundation.Python.3.10_qbz5n2kfra8p0\\LocalCache\\local-packages\\Python310\\site-packages\\sklearn\\preprocessing\\_data.py:239: UserWarning: Numerical issues were encountered when centering the data and might not be solved. Dataset may contain too large values. You may need to prescale your features.\n",
      "  warnings.warn(\n",
      "C:\\Users\\jonas\\AppData\\Local\\Packages\\PythonSoftwareFoundation.Python.3.10_qbz5n2kfra8p0\\LocalCache\\local-packages\\Python310\\site-packages\\sklearn\\preprocessing\\_data.py:258: UserWarning: Numerical issues were encountered when scaling the data and might not be solved. The standard deviation of the data is probably very close to 0. \n",
      "  warnings.warn(\n"
     ]
    }
   ],
   "source": [
    "X_test = np.array(test_data).reshape((-1,3))\n",
    "X_test = preprocessing.scale(X_test, axis=0)"
   ]
  },
  {
   "cell_type": "code",
   "execution_count": 368,
   "metadata": {},
   "outputs": [],
   "source": [
    "prediction_array = []\n",
    "X = copy.deepcopy(X_test)\n",
    "w = svm_00.coef_[0]\n",
    "b = 0.27 # 0.23\n",
    "\n",
    "for i in range(len(X)): \n",
    "    pred = 0\n",
    "    for j in range(len(X[0])): \n",
    "        pred += (X[i][j] * w[j] + b)\n",
    "    if(np.mean(pred) >= 0): \n",
    "        prediction_array.append(1)\n",
    "    else: \n",
    "        prediction_array.append(0)\n"
   ]
  },
  {
   "cell_type": "code",
   "execution_count": 369,
   "metadata": {},
   "outputs": [
    {
     "data": {
      "text/plain": [
       "array([-0.18004084])"
      ]
     },
     "execution_count": 369,
     "metadata": {},
     "output_type": "execute_result"
    }
   ],
   "source": [
    "svm_00.intercept_"
   ]
  },
  {
   "cell_type": "code",
   "execution_count": 379,
   "metadata": {},
   "outputs": [
    {
     "name": "stdout",
     "output_type": "stream",
     "text": [
      "42826\n"
     ]
    }
   ],
   "source": [
    "pa = copy.deepcopy(prediction_array)\n",
    "\n",
    "w = svm_10.coef_[0]\n",
    "b = -0.1 #-0.17\n",
    "count = 0\n",
    "\n",
    "\n",
    "for i in range(len(pa)):\n",
    "    pred = 0\n",
    "    if(pa[i] == 1):\n",
    "        for j in range(len(w)): \n",
    "            pred += (X[i][j] * w[j] + b)\n",
    "\n",
    "        if(np.mean(pred) >= 0): \n",
    "            pa[i] = 2\n",
    "            count += 1\n",
    "        else: \n",
    "            pa[i] = 1\n",
    "\n",
    "print(count)"
   ]
  },
  {
   "cell_type": "code",
   "execution_count": null,
   "metadata": {},
   "outputs": [],
   "source": []
  },
  {
   "cell_type": "code",
   "execution_count": 380,
   "metadata": {},
   "outputs": [
    {
     "data": {
      "text/plain": [
       "array([0, 1, 2])"
      ]
     },
     "execution_count": 380,
     "metadata": {},
     "output_type": "execute_result"
    }
   ],
   "source": [
    "classesInLabels(pa)"
   ]
  },
  {
   "cell_type": "code",
   "execution_count": 381,
   "metadata": {},
   "outputs": [],
   "source": [
    "pa = np.array(pa)\n",
    "plt.imshow(pa.reshape(len(test_data),len(test_data[0])))\n",
    "plt.axis('off')\n",
    "plt.savefig(\"../Z_Labeled_HYSPO_Data/\" + test_name.split(\".\")[0] + \"labeled\", dpi = 300, bbox_inches=\"tight\")\n",
    "plt.close()"
   ]
  },
  {
   "cell_type": "code",
   "execution_count": 382,
   "metadata": {},
   "outputs": [
    {
     "name": "stdout",
     "output_type": "stream",
     "text": [
      "{'__header__': b'MATLAB 5.0 MAT-file, Platform: PCWIN64, Created on: Thu Mar 23 18:23:02 2017', '__version__': '1.0', '__globals__': [], 'map': array([[0, 0, 0, ..., 0, 0, 0],\n",
      "       [0, 0, 0, ..., 0, 0, 0],\n",
      "       [0, 0, 0, ..., 0, 0, 0],\n",
      "       ...,\n",
      "       [0, 0, 0, ..., 0, 0, 0],\n",
      "       [0, 0, 0, ..., 0, 0, 0],\n",
      "       [0, 0, 0, ..., 0, 0, 0]], dtype=uint8), 'data': array([[[ 641,  720,  947, ...,   43,   21,   25],\n",
      "        [ 646,  721,  951, ...,   43,   20,   25],\n",
      "        [ 677,  724,  954, ...,   40,   19,   24],\n",
      "        ...,\n",
      "        [ 825,  927, 1255, ...,   61,   24,   32],\n",
      "        [ 846,  941, 1317, ...,   71,   34,   42],\n",
      "        [ 836,  947, 1298, ...,   72,   32,   43]],\n",
      "\n",
      "       [[ 624,  698,  945, ...,   44,   23,   26],\n",
      "        [ 646,  699,  952, ...,   44,   21,   26],\n",
      "        [ 637,  706,  936, ...,   43,   20,   24],\n",
      "        ...,\n",
      "        [ 855,  961, 1284, ...,   64,   29,   32],\n",
      "        [ 852,  974, 1360, ...,   77,   35,   46],\n",
      "        [ 818,  940, 1306, ...,   73,   33,   43]],\n",
      "\n",
      "       [[ 643,  693,  923, ...,   34,   18,   22],\n",
      "        [ 618,  684,  924, ...,   40,   20,   24],\n",
      "        [ 641,  684,  897, ...,   33,   19,   22],\n",
      "        ...,\n",
      "        [ 857,  981, 1301, ...,   62,   30,   34],\n",
      "        [ 879,  992, 1397, ...,   80,   36,   48],\n",
      "        [ 857,  951, 1358, ...,   80,   37,   45]],\n",
      "\n",
      "       ...,\n",
      "\n",
      "       [[ 515,  546,  712, ...,   23,   12,   14],\n",
      "        [ 504,  536,  718, ...,   24,   12,   15],\n",
      "        [ 510,  548,  688, ...,   13,    7,    8],\n",
      "        ...,\n",
      "        [ 713,  777, 1040, ...,   50,   23,   26],\n",
      "        [ 758,  818, 1059, ...,   55,   24,   32],\n",
      "        [ 766,  864, 1134, ...,   61,   29,   33]],\n",
      "\n",
      "       [[ 518,  543,  715, ...,   21,    8,   10],\n",
      "        [ 507,  533,  702, ...,   22,   10,   13],\n",
      "        [ 514,  531,  711, ...,   22,   11,   12],\n",
      "        ...,\n",
      "        [ 836,  966, 1304, ...,   88,   41,   49],\n",
      "        [ 831,  939, 1329, ...,   88,   40,   52],\n",
      "        [ 820,  954, 1313, ...,   84,   37,   51]],\n",
      "\n",
      "       [[ 503,  560,  711, ...,   18,    8,   10],\n",
      "        [ 507,  533,  702, ...,   22,   10,   13],\n",
      "        [ 514,  535,  720, ...,   21,   11,   12],\n",
      "        ...,\n",
      "        [ 800,  903, 1285, ...,   77,   34,   44],\n",
      "        [ 768,  896, 1279, ...,   78,   36,   44],\n",
      "        [ 739,  862, 1258, ...,   77,   34,   47]]], dtype=uint16)}\n"
     ]
    }
   ],
   "source": [
    "airport = sc.loadmat(\"../Training_data/abu-airport-1.mat\")\n",
    "print(airport)"
   ]
  },
  {
   "cell_type": "code",
   "execution_count": 384,
   "metadata": {},
   "outputs": [],
   "source": [
    "airport_data = airport[\"data\"]\n",
    "airport_gt = airport[\"map\"]"
   ]
  },
  {
   "cell_type": "code",
   "execution_count": 387,
   "metadata": {},
   "outputs": [
    {
     "data": {
      "text/plain": [
       "205"
      ]
     },
     "execution_count": 387,
     "metadata": {},
     "output_type": "execute_result"
    }
   ],
   "source": [
    "len(airport_data[0][0])"
   ]
  },
  {
   "cell_type": "code",
   "execution_count": 406,
   "metadata": {},
   "outputs": [],
   "source": [
    "X = np.array(airport_data).reshape((-1,205))\n",
    "X = preprocessing.scale(X, axis=0)\n",
    "y = airport_gt.flatten()\n",
    "\n",
    "X_train, X_test, y_train, y_test = train_test_split(X,y, test_size=0.95, random_state=1)"
   ]
  },
  {
   "cell_type": "code",
   "execution_count": 407,
   "metadata": {},
   "outputs": [
    {
     "name": "stderr",
     "output_type": "stream",
     "text": [
      "C:\\Users\\jonas\\AppData\\Local\\Packages\\PythonSoftwareFoundation.Python.3.10_qbz5n2kfra8p0\\LocalCache\\local-packages\\Python310\\site-packages\\sklearn\\svm\\_base.py:1225: ConvergenceWarning: Liblinear failed to converge, increase the number of iterations.\n",
      "  warnings.warn(\n"
     ]
    }
   ],
   "source": [
    "svm = LinearSVC()\n",
    "svm.fit(X_train, y_train)\n",
    "predict = svm.predict(X)"
   ]
  },
  {
   "cell_type": "code",
   "execution_count": 408,
   "metadata": {},
   "outputs": [
    {
     "data": {
      "text/plain": [
       "68.80555555555556"
      ]
     },
     "execution_count": 408,
     "metadata": {},
     "output_type": "execute_result"
    }
   ],
   "source": [
    "np.sum(predict == y)/sum(y)"
   ]
  },
  {
   "cell_type": "code",
   "execution_count": 402,
   "metadata": {},
   "outputs": [
    {
     "ename": "ValueError",
     "evalue": "cannot reshape array of size 2050000 into shape (100,100)",
     "output_type": "error",
     "traceback": [
      "\u001b[1;31m---------------------------------------------------------------------------\u001b[0m",
      "\u001b[1;31mValueError\u001b[0m                                Traceback (most recent call last)",
      "Cell \u001b[1;32mIn [402], line 2\u001b[0m\n\u001b[0;32m      1\u001b[0m pa \u001b[39m=\u001b[39m np\u001b[39m.\u001b[39marray(airport_data)\n\u001b[1;32m----> 2\u001b[0m plt\u001b[39m.\u001b[39mimshow(airport_data\u001b[39m.\u001b[39;49mreshape(\u001b[39mlen\u001b[39;49m(airport_data),\u001b[39mlen\u001b[39;49m(airport_data[\u001b[39m0\u001b[39;49m])))\n\u001b[0;32m      3\u001b[0m plt\u001b[39m.\u001b[39maxis(\u001b[39m'\u001b[39m\u001b[39moff\u001b[39m\u001b[39m'\u001b[39m)\n\u001b[0;32m      4\u001b[0m plt\u001b[39m.\u001b[39msavefig(\u001b[39m\"\u001b[39m\u001b[39m../Training_data/Airport_data\u001b[39m\u001b[39m\"\u001b[39m ,dpi \u001b[39m=\u001b[39m \u001b[39m300\u001b[39m, bbox_inches\u001b[39m=\u001b[39m\u001b[39m\"\u001b[39m\u001b[39mtight\u001b[39m\u001b[39m\"\u001b[39m)\n",
      "\u001b[1;31mValueError\u001b[0m: cannot reshape array of size 2050000 into shape (100,100)"
     ]
    }
   ],
   "source": [
    "pa = np.array(airport_data)\n",
    "plt.imshow(airport_data.reshape(len(airport_data),len(airport_data[0])))\n",
    "plt.axis('off')\n",
    "plt.savefig(\"../Training_data/Airport_data\" ,dpi = 300, bbox_inches=\"tight\")\n",
    "plt.close()"
   ]
  },
  {
   "cell_type": "code",
   "execution_count": 404,
   "metadata": {},
   "outputs": [],
   "source": [
    "new_airport = []\n",
    "\n",
    "for i in range(len(airport_data)):\n",
    "    for j in range(len(airport_data[0])): \n",
    "        new_airport.append(np.mean(airport_data[i][j]))\n",
    "\n",
    "new_airport = np.array(new_airport) \n"
   ]
  },
  {
   "cell_type": "code",
   "execution_count": 405,
   "metadata": {},
   "outputs": [],
   "source": [
    "\n",
    "plt.imshow(new_airport.reshape(len(airport_data),len(airport_data[0])))\n",
    "plt.axis('off')\n",
    "plt.savefig(\"../Training_data/Airport_data\" ,dpi = 300, bbox_inches=\"tight\")\n",
    "plt.close()"
   ]
  }
 ],
 "metadata": {
  "kernelspec": {
   "display_name": "Python 3",
   "language": "python",
   "name": "python3"
  },
  "language_info": {
   "codemirror_mode": {
    "name": "ipython",
    "version": 3
   },
   "file_extension": ".py",
   "mimetype": "text/x-python",
   "name": "python",
   "nbconvert_exporter": "python",
   "pygments_lexer": "ipython3",
   "version": "3.10.10"
  },
  "orig_nbformat": 4,
  "vscode": {
   "interpreter": {
    "hash": "059b92ebffe316512df3810dcdd9739bd5d694b60baa1e9e8136193b1cf34557"
   }
  }
 },
 "nbformat": 4,
 "nbformat_minor": 2
}
