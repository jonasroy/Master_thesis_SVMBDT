{
 "cells": [
  {
   "cell_type": "code",
   "execution_count": 1,
   "metadata": {},
   "outputs": [],
   "source": [
    "# 0 Water \n",
    "# 1 Strange Water \n",
    "# 2 Light Forest \n",
    "# 3 Dark Forest \n",
    "# 4 Urban \n",
    "# 5 Rock \n",
    "# 6 Ice \n",
    "# 7 Sand\n",
    "# 8 Thick Clouds \n",
    "# 9 Thin Clouds \n",
    "# 10 Crop \n",
    "\n",
    "\n",
    "#Make labels into land, water and clouds \n",
    "#water  = 2\n",
    "#cropland = 3\n",
    "#pasture = 4\n",
    "#city = 5\n",
    "#rock = 6\n",
    "#thin_forest = 7\n",
    "#thick_forest = 8 \n",
    "#cloud = 9\n",
    "#thin_clouds = 10\n",
    "\n",
    "from SVMBDT import *\n",
    "from HelperFunctions_ import *\n",
    "import matplotlib.pyplot as plt\n",
    "from sklearn.model_selection import train_test_split\n",
    "from ground_training_functions import * \n",
    "import numpy as np"
   ]
  },
  {
   "cell_type": "code",
   "execution_count": 2,
   "metadata": {},
   "outputs": [],
   "source": [
    "trondheim_data = plt.imread(\"../Training_data/Trondheim_2022_08_23T10_26_43-bin3.png\")\n",
    "trondheim_gt = np.load(\"../Training_data/Trondheim_labels_2022-08-23.npz\")[\"labels\"]\n",
    "\n",
    "#Preprocess the labeling \n",
    "\n",
    "new_trondheim_gt = []\n",
    "y_ = trondheim_gt.flatten()\n",
    "\n",
    "for i in range(0,len(y_),3): \n",
    "    new_trondheim_gt.append(y_[i])\n",
    "\n",
    "new_trondheim_gt = np.array(new_trondheim_gt)\n",
    "\n",
    "\n",
    "new_trondheim_gt[new_trondheim_gt == 2] = 0\n",
    "new_trondheim_gt[new_trondheim_gt == 3] = 10 \n",
    "new_trondheim_gt[new_trondheim_gt == 8] = 3 \n",
    "new_trondheim_gt[new_trondheim_gt == 9] = 8 \n",
    "new_trondheim_gt[new_trondheim_gt == 10] = 9\n",
    "new_trondheim_gt[new_trondheim_gt == 4] = 10 \n",
    "new_trondheim_gt[new_trondheim_gt == 7] = 2 \n",
    "new_trondheim_gt[new_trondheim_gt == 5] = 4 \n",
    "new_trondheim_gt[new_trondheim_gt == 6] = 5 \n",
    "\n",
    "trondheim_new_labels = copy.deepcopy(new_trondheim_gt)\n",
    "\n",
    "\n",
    "store_labeled_image(trondheim_new_labels, len(trondheim_data), len(trondheim_data[0]), \"trondheim_test\")"
   ]
  },
  {
   "cell_type": "code",
   "execution_count": 3,
   "metadata": {},
   "outputs": [],
   "source": [
    "def rotate_labels(labeled_image, x_dim, y_dim):\n",
    "\n",
    "    resized_li = np.array(labeled_image)\n",
    "    resized_li.resize(y_dim,x_dim)\n",
    "    rotate_image = []\n",
    "\n",
    "    for i in range(len(resized_li[0])-1,-1,-1): \n",
    "        for j in range(len(resized_li)): \n",
    "            rotate_image.append(resized_li[j][i])\n",
    "    return np.array(rotate_image) \n"
   ]
  },
  {
   "cell_type": "code",
   "execution_count": 4,
   "metadata": {},
   "outputs": [],
   "source": [
    "new_trond = rotate_labels(trondheim_new_labels, len(trondheim_data), len(trondheim_data[0]))"
   ]
  },
  {
   "cell_type": "code",
   "execution_count": 1531,
   "metadata": {},
   "outputs": [],
   "source": [
    "penguin_data = plt.imread(\"../Training_data/penguin_2022-12-11_3-bin3.png\")\n",
    "penguin_labels = np.load(\"../Z_Labeled_HYSPO_Data/penguin.npy\")\n",
    "\n",
    "florida_data = plt.imread(\"../Training_data/florida_2023-02-12_1515Z-bin3.png\")\n",
    "florida_labels = np.load(\"../Z_Labeled_HYSPO_Data/florida.npy\")\n",
    "\n",
    "gobabeb_data = plt.imread(\"../Training_data/gobabeb_2023-02-14_0840Z-bin3.png\")\n",
    "gobabeb_labels = np.load(\"../Z_Labeled_HYSPO_Data/gobabeb.npy\")\n",
    "\n",
    "kampala_data = plt.imread(\"../Training_data/kampala_2023-02-04_0740Z-bin3.png\") \n",
    "kampala_labels = np.load(\"../Z_Labeled_HYSPO_Data/kampala.npy\")"
   ]
  },
  {
   "cell_type": "code",
   "execution_count": 1754,
   "metadata": {},
   "outputs": [],
   "source": [
    "combined_data_array = [kampala_data, gobabeb_data]\n",
    "combined_labels_array = [kampala_labels, gobabeb_labels]"
   ]
  },
  {
   "cell_type": "code",
   "execution_count": 1551,
   "metadata": {},
   "outputs": [
    {
     "name": "stdout",
     "output_type": "stream",
     "text": [
      "956\n",
      "956\n",
      "956\n"
     ]
    }
   ],
   "source": [
    "print(len(trondheim_data[0]))\n",
    "print(len(kampala_data[0]))\n",
    "print(len(gobabeb_data[0]))"
   ]
  },
  {
   "cell_type": "code",
   "execution_count": 1755,
   "metadata": {},
   "outputs": [],
   "source": [
    "def combineDataAndLabels(data_array, labels_array): \n",
    "    combined_data = []\n",
    "    combined_labels = []\n",
    "\n",
    "    for i in range(len(data_array)): \n",
    "        for j in range(len(data_array[i])): \n",
    "            combined_data.append(data_array[i][j])\n",
    "\n",
    "    for i in range(len(labels_array)): \n",
    "        for j in range(len(labels_array[i])): \n",
    "            combined_labels.append(labels_array[i][j])\n",
    "\n",
    "    return np.array(combined_data), np.array(combined_labels)      "
   ]
  },
  {
   "cell_type": "code",
   "execution_count": 1756,
   "metadata": {},
   "outputs": [],
   "source": [
    "combined_data, combined_labels = combineDataAndLabels(combined_data_array, combined_labels_array)"
   ]
  },
  {
   "cell_type": "code",
   "execution_count": 1757,
   "metadata": {},
   "outputs": [],
   "source": [
    "store_labeled_image(combined_labels, len(combined_data), len(combined_data[0]), \"test\")"
   ]
  },
  {
   "cell_type": "code",
   "execution_count": 2256,
   "metadata": {},
   "outputs": [
    {
     "name": "stdout",
     "output_type": "stream",
     "text": [
      "The training time is: 0.055 sec.\n"
     ]
    }
   ],
   "source": [
    "X = np.array(combined_data).reshape((-1,3))\n",
    "y = np.array(combined_labels).flatten()\n",
    "\n",
    "X_train, X_test, y_train, y_test = train_test_split(X,y, test_size=0.95, random_state=1)\n",
    "\n",
    "#tb = {0 : [[6,8,9],[0,2,3,4,5,10]], 1 : [[[8,9],[6]],[[0],[2,3,4,5,10]]]}\n",
    "\n",
    "#tb = {0 : [[6,7,8,9],[0,2,3,4,5,10]], 1 : [[[6,8,9],[7]],[[0],[2,3,4,5,10]]], 2 : [[[6],[8,9]],[[2,3,4,10],[5]]]}\n",
    "\n",
    "tb = {0 : [[8],[0,1,2,3,4,5,7,11]], 1 : [[],[[0],[1,2,3,4,5,7,11]]], 2 : [[],[[1],[2,3,4,5,11]]]}\n",
    "\n",
    "svm_tb = {0 : LinearSVC(), 1 : [False, LinearSVC()], 2 : [False, LinearSVC()]}\n",
    "\n",
    "svm_branch_models = SvmDesionTreeTrain(X_train, y_train, tb, svm_tb)"
   ]
  },
  {
   "cell_type": "code",
   "execution_count": 2426,
   "metadata": {},
   "outputs": [],
   "source": [
    "svm_branch_models_to_bin(svm_branch_models[0],0.75)\n",
    "svm_branch_models_to_bin(svm_branch_models[1][1],1.2)\n",
    "svm_branch_models_to_bin(svm_branch_models[2][1],-0.67)\n",
    "\n"
   ]
  },
  {
   "cell_type": "code",
   "execution_count": 2427,
   "metadata": {},
   "outputs": [],
   "source": [
    "test_name = \"../Training_data/sittwe_2023-02-07_0344Z-bin3.png\"\n",
    "test_data = plt.imread(test_name)\n",
    "\n",
    "X_test = np.array(test_data).reshape((-1,3))\n",
    "#X_test = preprocessing.scale(X_test, axis=0)"
   ]
  },
  {
   "cell_type": "code",
   "execution_count": 2428,
   "metadata": {},
   "outputs": [],
   "source": [
    "s_bdt = [[\"0008\", \"1\", \"0\"],[\"0001\", \"0\", \"2\"], [\"0102\", \"0\", \"0\"]]\n",
    "bdt = bdt_string_to_config_format(s_bdt)\n",
    "pl, svm_models = bdt_execute(X_test, bdt)"
   ]
  },
  {
   "cell_type": "code",
   "execution_count": 2877,
   "metadata": {},
   "outputs": [],
   "source": [
    "def fixing_labels(pl, x_0, x_1, y_0, y_1, x_dim, y_dim, old_label, new_label): \n",
    "    fixel_label = np.array(pl)\n",
    "    fixel_label.resize(x_dim, y_dim)\n",
    "\n",
    "    for i in range(len(fixel_label)): \n",
    "        for j in range(len(fixel_label[0])): \n",
    "            if((i >= x_0) and i <= x_1): \n",
    "                if(j >= y_0 and j <= y_1): \n",
    "                    if(fixel_label[i][j] == old_label): \n",
    "                        fixel_label[i][j] = new_label\n",
    "\n",
    "    return fixel_label.flatten()\n",
    "\n",
    "\n"
   ]
  },
  {
   "cell_type": "code",
   "execution_count": 2882,
   "metadata": {},
   "outputs": [],
   "source": [
    "store_labeled_image(fpl, len(test_data), len(test_data[0]), \"test\")"
   ]
  },
  {
   "cell_type": "code",
   "execution_count": 2879,
   "metadata": {},
   "outputs": [
    {
     "data": {
      "text/plain": [
       "array([0, 1, 2, 7, 8])"
      ]
     },
     "execution_count": 2879,
     "metadata": {},
     "output_type": "execute_result"
    }
   ],
   "source": [
    "classesInLabels(fpl)"
   ]
  },
  {
   "cell_type": "code",
   "execution_count": 2880,
   "metadata": {},
   "outputs": [],
   "source": [
    "# 0 Water \n",
    "# 1 Strange Water \n",
    "# 2 Light Forest \n",
    "# 3 Dark Forest \n",
    "# 4 Urban \n",
    "# 5 Rock \n",
    "# 6 Ice \n",
    "# 7 Sand\n",
    "# 8 Thick Clouds \n",
    "# 9 Thin Clouds \n",
    "# 10 Crop \n",
    "# 11 Shadow "
   ]
  }
 ],
 "metadata": {
  "kernelspec": {
   "display_name": "Python 3",
   "language": "python",
   "name": "python3"
  },
  "language_info": {
   "codemirror_mode": {
    "name": "ipython",
    "version": 3
   },
   "file_extension": ".py",
   "mimetype": "text/x-python",
   "name": "python",
   "nbconvert_exporter": "python",
   "pygments_lexer": "ipython3",
   "version": "3.10.10"
  },
  "orig_nbformat": 4,
  "vscode": {
   "interpreter": {
    "hash": "059b92ebffe316512df3810dcdd9739bd5d694b60baa1e9e8136193b1cf34557"
   }
  }
 },
 "nbformat": 4,
 "nbformat_minor": 2
}
