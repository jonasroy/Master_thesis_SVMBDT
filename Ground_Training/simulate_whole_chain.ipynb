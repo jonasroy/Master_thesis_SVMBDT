{
 "cells": [
  {
   "cell_type": "code",
   "execution_count": 1,
   "metadata": {},
   "outputs": [],
   "source": [
    "import numpy as np\n",
    "\n",
    "\n",
    "class SVM:\n",
    "\n",
    "    def __init__(self, C = 1.0):\n",
    "        # C = error term\n",
    "        self.C = C\n",
    "        self.w = 0\n",
    "        self.b = 0\n",
    "\n",
    "    # Hinge Loss Function / Calculation\n",
    "    def hingeloss(self, w, b, x, y):\n",
    "        # Regularizer term\n",
    "        reg = 0.5 * (w * w)\n",
    "\n",
    "        for i in range(x.shape[0]):\n",
    "            # Optimization term\n",
    "            opt_term = y[i] * ((np.dot(w, x[i])) + b)\n",
    "\n",
    "            # calculating loss\n",
    "            loss = reg + self.C * max(0, 1-opt_term)\n",
    "        return loss[0][0]\n",
    "\n",
    "    def fit(self, X, Y, batch_size=100000, learning_rate=0.0001, epochs=1000):\n",
    "        # The number of features in X\n",
    "        number_of_features = X.shape[1]\n",
    "\n",
    "        # The number of Samples in X\n",
    "        number_of_samples = X.shape[0]\n",
    "\n",
    "        c = self.C\n",
    "\n",
    "        # Creating ids from 0 to number_of_samples - 1\n",
    "        ids = np.arange(number_of_samples)\n",
    "\n",
    "        # Shuffling the samples randomly\n",
    "        np.random.shuffle(ids)\n",
    "\n",
    "        # creating an array of zeros\n",
    "        w = np.zeros((1, number_of_features))\n",
    "        b = 0\n",
    "        losses = []\n",
    "\n",
    "        # Gradient Descent logic\n",
    "        for i in range(epochs):\n",
    "            # Calculating the Hinge Loss\n",
    "            l = self.hingeloss(w, b, X, Y)\n",
    "\n",
    "            # Appending all losses \n",
    "            losses.append(l)\n",
    "            \n",
    "            # Starting from 0 to the number of samples with batch_size as interval\n",
    "            for batch_initial in range(0, number_of_samples, batch_size):\n",
    "                gradw = 0\n",
    "                gradb = 0\n",
    "\n",
    "                for j in range(batch_initial, batch_initial+ batch_size):\n",
    "                    if j < number_of_samples:\n",
    "                        x = ids[j]\n",
    "                        ti = Y[x] * (np.dot(w, X[x].T) + b)\n",
    "\n",
    "                        if ti > 1:\n",
    "                            gradw += 0\n",
    "                            gradb += 0\n",
    "                        else:\n",
    "                            # Calculating the gradients\n",
    "\n",
    "                            #w.r.t w \n",
    "                            gradw += c * Y[x] * X[x]\n",
    "                            # w.r.t b\n",
    "                            gradb += c * Y[x]\n",
    "\n",
    "                # Updating weights and bias\n",
    "                w = w - learning_rate * w + learning_rate * gradw\n",
    "                b = b + learning_rate * gradb\n",
    "        \n",
    "        self.w = w\n",
    "        self.b = b\n",
    "\n",
    "        return self.w, self.b, losses\n",
    "\n",
    "    def predict(self, X):\n",
    "        prediction = np.dot(X, self.w[0]) + self.b # w.x + b\n",
    "        return np.sign(prediction)"
   ]
  },
  {
   "cell_type": "code",
   "execution_count": 2,
   "metadata": {},
   "outputs": [],
   "source": [
    "def float_to_int_delta(value, byte):\n",
    "\n",
    "    import copy\n",
    "\n",
    "    max_value = 50\n",
    "    v = copy.deepcopy(value)\n",
    "    delta = max_value/(pow(2,8*byte)-1)\n",
    "    converted_int = int(v/delta)\n",
    "\n",
    "    if(converted_int >= (pow(2,8*byte)/2)-1): \n",
    "        return int(pow(2,8*byte)/2)-1\n",
    "    \n",
    "    elif(converted_int <= -(pow(2,8*byte)/2)+1): \n",
    "        return -int(pow(2,8*byte)/2)+1\n",
    "    \n",
    "    else: \n",
    "        return converted_int\n",
    "\n",
    "def int_to_float_delta(value, byte): \n",
    "    import copy\n",
    "    max_value = 50\n",
    "    v = copy.deepcopy(value)\n",
    "    delta = max_value/(pow(2,8*byte)-1)\n",
    "    return v*delta"
   ]
  },
  {
   "cell_type": "code",
   "execution_count": 3,
   "metadata": {},
   "outputs": [],
   "source": [
    "def int_to_svm_model_name(value): \n",
    "    first_value = int((value - value%16)/16)\n",
    "    second_value = value%16\n",
    "    return str(first_value), str(second_value) "
   ]
  },
  {
   "cell_type": "code",
   "execution_count": 4,
   "metadata": {},
   "outputs": [
    {
     "data": {
      "text/plain": [
       "('2', '9')"
      ]
     },
     "execution_count": 4,
     "metadata": {},
     "output_type": "execute_result"
    }
   ],
   "source": [
    "int_to_svm_model_name(41)"
   ]
  },
  {
   "cell_type": "code",
   "execution_count": 5,
   "metadata": {},
   "outputs": [],
   "source": [
    "def string_int_to_hex_int(str_hex): \n",
    "    return 16*int(str_hex[0]) + int(str_hex[1]) "
   ]
  },
  {
   "cell_type": "code",
   "execution_count": 6,
   "metadata": {},
   "outputs": [],
   "source": [
    "def linear_train_int_bin(file_path, class_1, class_2, b, w): \n",
    "        #svm_model format: [class1, class2, b, w_i[]]\n",
    "\n",
    "    #Modus: type of svm model. Linear, rbf, sparse etc.\n",
    "\n",
    "    import struct \n",
    "    \n",
    "    svm_model_name = \"\"\n",
    "\n",
    "    c1 = str(class_1) \n",
    "    c2 = str(class_2)\n",
    "\n",
    "    if(len(c1) == 1): \n",
    "        c1 = \"0\" + c1\n",
    "\n",
    "    if(len(c2) == 1): \n",
    "        c2 = \"0\" + c2\n",
    "\n",
    "    svm_model_name = \"lsm\" + c1 + c2\n",
    "\n",
    "    file = open(file_path + svm_model_name, \"wb\")    \n",
    "    \n",
    "    buf = struct.pack(\"BB\", class_1, class_2)\n",
    "\n",
    "    file.write(buf)\n",
    "\n",
    "    buf = struct.pack('h', b)\n",
    "\n",
    "    file.write(buf)\n",
    "\n",
    "    w_size = str(len(w)) + \"h\"\n",
    "\n",
    "    buf = struct.pack(w_size, *w)\n",
    "    \n",
    "    file.write(buf)\n",
    "\n",
    "    file.close()\n",
    "\n",
    "    return 0"
   ]
  },
  {
   "cell_type": "code",
   "execution_count": 7,
   "metadata": {},
   "outputs": [],
   "source": [
    "def bdt_config_bin(file_path, bdt_config_aray, config_num):\n",
    "\n",
    "    import struct \n",
    "\n",
    "    bca = np.array(bdt_config_aray).flatten()\n",
    "\n",
    "    bdt_config_name = \"bdtc\" + str(config_num)\n",
    "    \n",
    "    file = open(file_path + bdt_config_name, \"wb\")\n",
    "\n",
    "    for i in range(len(bca)):\n",
    "        buf = struct.pack(\">B\", bca[i]) \n",
    "        file.write(buf)\n",
    "\n",
    "    file.close()"
   ]
  },
  {
   "cell_type": "code",
   "execution_count": 8,
   "metadata": {},
   "outputs": [],
   "source": [
    "def hsi_binary(file_path, filename, X):\n",
    "\n",
    "    import struct\n",
    "\n",
    "    pH = np.array(X).flatten()\n",
    "        \n",
    "    file = open(file_path + filename, \"wb\")\n",
    "\n",
    "    for i in range(len(pH)):\n",
    "        buf = struct.pack(\"h\", float_to_int_delta(pH[i],2)) \n",
    "        file.write(buf)\n",
    "\n",
    "    file.close()\n"
   ]
  },
  {
   "cell_type": "code",
   "execution_count": 10,
   "metadata": {},
   "outputs": [],
   "source": [
    "def models_names(bdt, model_names): \n",
    "    \n",
    "    svm_model_list = []\n",
    "\n",
    "    for i in range(len(bdt)): \n",
    "        c1, c2 = int_to_svm_model_name(bdt[i][0])\n",
    "        \n",
    "        if(len(c1) == 1): \n",
    "            c1 = \"0\" + c1\n",
    "\n",
    "        if(len(c2) == 1): \n",
    "            c2 = \"0\" + c2\n",
    "\n",
    "        svm_model_list.append(str(model_names) + str(c1) + str(c2)) \n",
    "\n",
    "    return svm_model_list"
   ]
  },
  {
   "cell_type": "code",
   "execution_count": 11,
   "metadata": {},
   "outputs": [],
   "source": [
    "def linear_svm_models_load(path, bdt): \n",
    "\n",
    "    import os \n",
    "    import struct\n",
    "\n",
    "    svm_models_array = []\n",
    "\n",
    "    svm_default_name = \"lsm\"\n",
    "\n",
    "    svm_model_list = models_names(bdt, svm_default_name)\n",
    "\n",
    "    for i in range(len(svm_model_list)): \n",
    "        file = open(path + svm_model_list[i], \"rb\")\n",
    "\n",
    "        unpack_opt = \"2b\" + str(int(os.stat(path + svm_model_list[i]).st_size/2 - 1))  + \"h\"\n",
    "        content = struct.unpack(unpack_opt,file.read())\n",
    "\n",
    "        svm_model = []\n",
    "        svm_model.append(content[0])\n",
    "        svm_model.append(content[1])\n",
    "\n",
    "        for j in range(2,len(content)): \n",
    "            svm_model.append(int_to_float_delta(content[j],2))\n",
    "        \n",
    "        svm_models_array.append(svm_model)\n",
    "\n",
    "        file.close()\n",
    "\n",
    "    return svm_models_array  "
   ]
  },
  {
   "cell_type": "code",
   "execution_count": 12,
   "metadata": {},
   "outputs": [],
   "source": [
    "def rotate_image(image): \n",
    "    rotated_image = []\n",
    "    for i in range(len(image[0])): \n",
    "        x_array = []\n",
    "        for j in range(len(image)-1,-1,-1):\n",
    "            x_array.append(image[j][i])\n",
    "        rotated_image.append(x_array)\n",
    "\n",
    "    return np.array(rotated_image)"
   ]
  },
  {
   "cell_type": "code",
   "execution_count": 13,
   "metadata": {},
   "outputs": [],
   "source": [
    "def svm_branch_models_to_bin(svm_branch_model, b_extra):\n",
    "\n",
    "    sbm = copy.deepcopy(svm_branch_model)\n",
    "    class_1 = sbm.classes_[0]\n",
    "    class_2 = sbm.classes_[1]\n",
    "    b = float_to_int_delta(sbm.intercept_[0] + b_extra ,2)\n",
    "    w = sbm.coef_[0]\n",
    "    tw = []\n",
    "\n",
    "    for i in range(len(w)): \n",
    "        tw.append(float_to_int_delta(w[i],2))\n",
    "\n",
    "    linear_train_int_bin(\"svm_model_files/\", class_1, class_2, b, tw)"
   ]
  },
  {
   "cell_type": "code",
   "execution_count": 14,
   "metadata": {},
   "outputs": [
    {
     "name": "stdout",
     "output_type": "stream",
     "text": [
      "[[35, 1, 2]]\n"
     ]
    }
   ],
   "source": [
    "def bdt_string_to_config_format(bdt):\n",
    "\n",
    "    import copy\n",
    "\n",
    "    config_bdt = []\n",
    "\n",
    "    for i in range(len(bdt)): \n",
    "        bdt_index = []\n",
    "        bdt_i = copy.deepcopy(bdt[i][0]) \n",
    "\n",
    "        if(bdt_i[2] == \"0\"): \n",
    "            bdt_i = bdt_i[0] + bdt_i[1] + bdt_i[3] \n",
    "\n",
    "        if(bdt_i[0] == \"0\"): \n",
    "            bdt_i = bdt_i[1] + bdt_i[2]\n",
    "\n",
    "        bdt_index.append(string_int_to_hex_int(bdt_i))\n",
    "        bdt_index.append(int(bdt[i][1]))\n",
    "        bdt_index.append(int(bdt[i][2]))\n",
    "        config_bdt.append(bdt_index)\n",
    "\n",
    "    return config_bdt\n",
    "\n",
    "bdt = bdt_string_to_config_format([[\"0203\", \"1\", \"2\"]])\n",
    "\n",
    "print(bdt)\n",
    "\n",
    "#linear_svm_models_load(\"svm_model_files\", bdt)"
   ]
  },
  {
   "cell_type": "code",
   "execution_count": 15,
   "metadata": {},
   "outputs": [],
   "source": [
    "def svm_linear(X_i, svm_model):\n",
    "    pred = 0 \n",
    "\n",
    "    for i in range(len(X_i)): \n",
    "        pred += (X_i[i] * svm_model[3+i]) + svm_model[2]\n",
    "        #pred = np.dot(X_i, np.array(svm_model[3:len(X_i)+3]).T) + svm_model[2]\n",
    "    if(pred >= 0): \n",
    "        return -1\n",
    "    else:\n",
    "        return 1"
   ]
  },
  {
   "cell_type": "code",
   "execution_count": 16,
   "metadata": {},
   "outputs": [],
   "source": [
    "def bdt_execute(X, bdt): \n",
    "\n",
    "    # bdt : [svm_model_classes, send_index1, send_index2]\n",
    "    \n",
    "    svm_models = linear_svm_models_load(\"svm_model_files/\", bdt)\n",
    "    svm_models_index = 0 \n",
    "    prevoius_index = 0 \n",
    "    pixel_holder = 0 \n",
    "    labeled_image = [] \n",
    "\n",
    "    for i in range(len(X)): \n",
    "\n",
    "        svm_models_index = 0\n",
    "\n",
    "        while(True):\n",
    "\n",
    "            prevoius_index = svm_models_index\n",
    "\n",
    "            pixel_holder = svm_linear(X[i], svm_models[svm_models_index])\n",
    "\n",
    "            if(pixel_holder >= 0): \n",
    "                svm_models_index = int(bdt[svm_models_index][1])\n",
    "\n",
    "            else: \n",
    "                svm_models_index = int(bdt[svm_models_index][2])\n",
    "\n",
    "            if(svm_models_index == 0): \n",
    "\n",
    "                if(pixel_holder >= 0): \n",
    "                    labeled_image.append(svm_models[prevoius_index][0])\n",
    "                else: \n",
    "                    labeled_image.append(svm_models[prevoius_index][1])\n",
    "\n",
    "                break\n",
    "\n",
    "    return labeled_image, svm_models"
   ]
  },
  {
   "cell_type": "code",
   "execution_count": 49,
   "metadata": {},
   "outputs": [
    {
     "name": "stdout",
     "output_type": "stream",
     "text": [
      "[2 3 5 7 8 9]\n",
      "The training time is: 0.111 sec.\n"
     ]
    }
   ],
   "source": [
    "from SVMBDT import *\n",
    "from HelperFunctions_ import *\n",
    "import matplotlib.pyplot as plt\n",
    "from sklearn.model_selection import train_test_split\n",
    "\n",
    "trondheim_data = plt.imread(\"../Training_data/Trondheim_2022_08_23T10_26_43-bin3.png\")\n",
    "trondheim_gt = np.load(\"../Training_data/Trondheim_labels_2022-08-23.npz\")[\"labels\"]\n",
    "\n",
    "#Preprocess the labeling \n",
    "\n",
    "new_trondheim_gt = []\n",
    "y = trondheim_gt.flatten()\n",
    "\n",
    "for i in range(0,len(y),3): \n",
    "    new_trondheim_gt.append(y[i])\n",
    "\n",
    "new_trondheim_gt = np.array(new_trondheim_gt)\n",
    "\n",
    "#Make labels into land, water and clouds \n",
    "#water  = 2\n",
    "#cropland = 3\n",
    "#pasture = 4\n",
    "#city = 5\n",
    "#rock = 6\n",
    "#thin_forest = 7\n",
    "#thick_forest = 8 \n",
    "#cloud = 9\n",
    "#thin_clouds = 10\n",
    "\n",
    "trondheim_new_labels = copy.deepcopy(new_trondheim_gt)\n",
    "\n",
    "\n",
    "\n",
    "#trondheim_new_labels[trondheim_new_labels == 9] = 3\n",
    "\n",
    "nl = [4,5,6]\n",
    "\n",
    "for i in range(len(nl)):\n",
    "        trondheim_new_labels[trondheim_new_labels == nl[i]] = 3\n",
    "\n",
    "trondheim_new_labels[trondheim_new_labels == 10] = 5\n",
    "\n",
    "\n",
    "print(classesInLabels(trondheim_new_labels))\n",
    "\n",
    "new_trondheim = rotate_image(trondheim_data)\n",
    "\n",
    "X = np.array(new_trondheim).reshape((-1,3))\n",
    "#X = preprocessing.scale(X, axis=0)\n",
    "y = trondheim_new_labels.flatten()\n",
    "\n",
    "X_train, X_test, y_train, y_test = train_test_split(X,y, test_size=0.9, random_state=1)\n",
    "\n",
    "\n",
    "#tb = {0 : [[3,8,9],[2]], 1 : [[[3],[8,9]],[]], 2 : [[[8],[9]],[]]}\n",
    "#svm_tb = {0 : LinearSVC(C = 1, class_weight=\"balanced\", intercept_scaling=1), \n",
    "#          1 : [LinearSVC(C = 1, class_weight=\"balanced\", intercept_scaling=1), False],\n",
    "#          2 : [LinearSVC(C = 1, class_weight=\"balanced\", intercept_scaling=1), False]}\n",
    "#svm_tb = {0 : SVM(), 1 : [SVM(), False]}\n",
    "\n",
    "#tb = {0 : [[3,7,8], [2,5,9]], \n",
    "#      1 : [[[3],[7,8]],[[2],[5,9]]], \n",
    "#      2 : [[[7],[8]],[[5],[9]]]  \n",
    "#      }\n",
    "\n",
    "#svm_tb = {0 : LinearSVC(C = 1, class_weight=\"balanced\", intercept_scaling=1),\n",
    "#          1 : [LinearSVC(C = 1, class_weight=\"balanced\", intercept_scaling=1),LinearSVC(C = 1, class_weight=\"balanced\", intercept_scaling=1)], \n",
    "#          2 : [LinearSVC(C = 1, class_weight=\"balanced\", intercept_scaling=1),LinearSVC(C = 1, class_weight=\"balanced\", intercept_scaling=1)]\n",
    "#          }\n",
    "\n",
    "\n",
    "tb = { 0 : [[2],[3,5,7,8,9]], 1 : [[],[[5,9],[3,7,8]]], 2 : [[],[[3],[7,8]]], 3 : [[],[[7],[8]]]\n",
    "      \n",
    "}\n",
    "\n",
    "\n",
    "svm_tb = {0 : LinearSVC(C = 1, class_weight=\"balanced\", intercept_scaling=1),\n",
    "          1 : [False,LinearSVC(C = 1, class_weight=\"balanced\", intercept_scaling=1)], \n",
    "          2 : [False,LinearSVC(C = 1, class_weight=\"balanced\", intercept_scaling=1)], \n",
    "          3 : [False,LinearSVC(C = 1, class_weight=\"balanced\", intercept_scaling=1)]\n",
    "          }\n",
    "\n",
    "\n",
    "\n",
    "svm_branch_models = SvmDesionTreeTrain(X_train, y_train, tb, svm_tb)"
   ]
  },
  {
   "cell_type": "code",
   "execution_count": 18,
   "metadata": {},
   "outputs": [
    {
     "data": {
      "text/plain": [
       "array([[0.32941177, 0.39607844, 0.49411765],\n",
       "       [0.34901962, 0.43137255, 0.5137255 ],\n",
       "       [0.35686275, 0.43529412, 0.52156866],\n",
       "       ...,\n",
       "       [0.14509805, 0.21176471, 0.22352941],\n",
       "       [0.14509805, 0.20392157, 0.22352941],\n",
       "       [0.14117648, 0.2       , 0.21960784]], dtype=float32)"
      ]
     },
     "execution_count": 18,
     "metadata": {},
     "output_type": "execute_result"
    }
   ],
   "source": [
    "X"
   ]
  },
  {
   "cell_type": "code",
   "execution_count": 176,
   "metadata": {},
   "outputs": [],
   "source": [
    "#svm_branch_models_to_bin(svm_branch_models[0],-2.8)\n",
    "#svm_branch_models_to_bin(svm_branch_models[1][0],0)\n",
    "#svm_branch_models_to_bin(svm_branch_models[1][1],1.7)\n",
    "#svm_branch_models_to_bin(svm_branch_models[2][0],-1.25)\n",
    "#svm_branch_models_to_bin(svm_branch_models[2][1],2)\n",
    "\n",
    "svm_branch_models_to_bin(svm_branch_models[0],-0.7)\n",
    "svm_branch_models_to_bin(svm_branch_models[1][1],2.4)\n",
    "svm_branch_models_to_bin(svm_branch_models[2][1],-0.1)\n",
    "svm_branch_models_to_bin(svm_branch_models[3][1],0)\n",
    "#svm_branch_models_to_bin(svm_branch_models[2][1],2)"
   ]
  },
  {
   "cell_type": "code",
   "execution_count": 190,
   "metadata": {},
   "outputs": [],
   "source": [
    "#from tempfile import TemporaryFile\n",
    "#outfile = TemporaryFile(\"../Z_Labeled_HYSPO_Data/penguin.npy\")\n",
    "\n",
    "test_name = \"../Training_data/kampala_2023-02-04_0740Z-bin3.png\"\n",
    "test_data = plt.imread(test_name)\n",
    "\n",
    "X_test = np.array(test_data).reshape((-1,3))\n",
    "\n",
    "\n",
    "#s_bdt = [[\"0203\",\"0\",\"0\"],[\"0305\", \"2\", \"4\"], [\"0307\", \"0\", \"3\"], [\"0708\", \"0\", \"0\"], [\"0509\", \"0\", \"0\"]]\n",
    "s_bdt = [[\"0203\", \"0\", \"0\"], [\"0708\", \"0\", \"0\"]]\n",
    "\n",
    "\n",
    "\n",
    "bdt = bdt_string_to_config_format(s_bdt)\n",
    "\n",
    "pl, svm_models = bdt_execute(X_test, bdt)\n",
    "pl = np.array(pl)\n",
    "\n",
    "pl[pl == 2] = 0\n",
    "pl[pl == 3] = 7\n",
    "\n",
    "plt.imshow(pl.reshape(len(test_data),len(test_data[0])))\n",
    "plt.axis('off')\n",
    "plt.savefig(\"../Z_Labeled_HYSPO_Data/kampala\", dpi = 300, bbox_inches=\"tight\")\n",
    "\n",
    "np.save(\"../Z_Labeled_HYSPO_Data/kampala\", pl)\n",
    "\n",
    "plt.close()"
   ]
  },
  {
   "cell_type": "code",
   "execution_count": 123,
   "metadata": {},
   "outputs": [
    {
     "data": {
      "text/plain": [
       "array([0, 0, 0, ..., 7, 7, 7])"
      ]
     },
     "execution_count": 123,
     "metadata": {},
     "output_type": "execute_result"
    }
   ],
   "source": [
    "np.load(\"../Z_Labeled_HYSPO_Data/tharthar.npy\")"
   ]
  },
  {
   "cell_type": "code",
   "execution_count": 22,
   "metadata": {},
   "outputs": [
    {
     "data": {
      "text/plain": [
       "[[2,\n",
       "  3,\n",
       "  0.11062790875104905,\n",
       "  12.092774853131914,\n",
       "  22.854200045777066,\n",
       "  -23.58281834134432]]"
      ]
     },
     "execution_count": 22,
     "metadata": {},
     "output_type": "execute_result"
    }
   ],
   "source": [
    "s_bdt = [[\"0203\",\"0\",\"1\"]]\n",
    "bdt = bdt_string_to_config_format(s_bdt)\n",
    "\n",
    "linear_svm_models_load(\"svm_model_files/\", bdt)"
   ]
  },
  {
   "cell_type": "code",
   "execution_count": 58,
   "metadata": {},
   "outputs": [
    {
     "data": {
      "text/plain": [
       "array([2, 3])"
      ]
     },
     "execution_count": 58,
     "metadata": {},
     "output_type": "execute_result"
    }
   ],
   "source": [
    "classesInLabels(pl)"
   ]
  },
  {
   "cell_type": "code",
   "execution_count": 23,
   "metadata": {},
   "outputs": [],
   "source": [
    "pl = np.array(pl)\n",
    "plt.imshow(y.reshape(956,228))\n",
    "plt.axis('off')\n",
    "plt.savefig(\"Tronhdeim_gt\", dpi = 300, bbox_inches=\"tight\")\n",
    "plt.close()"
   ]
  },
  {
   "cell_type": "code",
   "execution_count": 24,
   "metadata": {},
   "outputs": [
    {
     "data": {
      "text/plain": [
       "array([2, 3, 5, 7, 8, 9])"
      ]
     },
     "execution_count": 24,
     "metadata": {},
     "output_type": "execute_result"
    }
   ],
   "source": [
    "classesInLabels(pl)"
   ]
  },
  {
   "cell_type": "code",
   "execution_count": 25,
   "metadata": {},
   "outputs": [
    {
     "data": {
      "text/plain": [
       "0.6767369522131689"
      ]
     },
     "execution_count": 25,
     "metadata": {},
     "output_type": "execute_result"
    }
   ],
   "source": [
    "np.sum(pl == y)/len(y)"
   ]
  },
  {
   "cell_type": "code",
   "execution_count": 26,
   "metadata": {},
   "outputs": [],
   "source": [
    "test_name = \"../Training_data/losangeles_2023-01-31_1756Z-bin3.png\"\n",
    "test_data = plt.imread(test_name)\n",
    "\n",
    "X_test = np.array(test_data).reshape((-1,3))\n",
    "hsi_binary(\"hsi_images/\", \"vigo2\", X_test)\n",
    "#X_test = preprocessing.scale(X_test, axis=0)\n",
    "\n",
    "\n",
    "s_bdt = [[\"0203\",\"0\",\"1\"],[\"0305\", \"2\", \"4\"], [\"0307\", \"0\", \"3\"], [\"0708\", \"0\", \"0\"], [\"0509\", \"0\", \"0\"]]\n",
    "\n",
    "bdt = bdt_string_to_config_format(s_bdt)\n",
    "\n",
    "pl, svm_models = bdt_execute(X_test, bdt)\n",
    "\n",
    "\n",
    "hypso_color_label = { 0 : [0,0,200], 1 : [255,165,0],\n",
    "                      2 : [150,150,150], 3: [144, 238, 144], 4 : [34,139,34], 5 : [240, 240, 240]}\n",
    "\n",
    "\n",
    "hypso_color_label = { 0 : [0,0,139], \n",
    "                      1 : [13,152,186], \n",
    "                      2 : [144,238,144], \n",
    "                      3 : [1,50,32], \n",
    "                      4 : [240,0,0], \n",
    "                      5 : [20,20,20], \n",
    "                      6 : [255,255,255], \n",
    "                      7 : [194,178,128], \n",
    "                      8 : [180,180,180], \n",
    "                      9 : [100,100,100], \n",
    "                      10 : [200,200,0]   \n",
    "}\n",
    "\n",
    "\n",
    "pl = np.array(pl)\n",
    "\n",
    "t=255\n",
    "cmap = {}\n",
    "\n",
    "for i in range(len(hypso_color_label)): \n",
    "    cmap[i] = np.array(hypso_color_label[i] + [255])/255\n",
    "\n",
    "new_y = copy.deepcopy(pl)\n",
    "\n",
    "yout_color = newColorLabels(new_y,len(test_data),len(test_data[0]),trondheim_color_label)\n",
    "\n",
    "\n",
    "\n",
    "#pl = np.array(pl)\n",
    "\n",
    "#plt.imshow(pl.reshape(len(test_data), len(test_data[0])))\n",
    "plt.imshow(yout_color)\n",
    "plt.axis('off')\n",
    "plt.savefig(\"../new_bdt_testing/\" + test_name.replace(\"../Training_data/\",\"\"), dpi = 300, bbox_inches=\"tight\")\n",
    "plt.close()\n",
    "\n"
   ]
  },
  {
   "cell_type": "code",
   "execution_count": 27,
   "metadata": {},
   "outputs": [
    {
     "data": {
      "text/plain": [
       "217485"
      ]
     },
     "execution_count": 27,
     "metadata": {},
     "output_type": "execute_result"
    }
   ],
   "source": [
    "hsi_binary(\"hsi_images/\", \"los_angeles\", X_test)\n",
    "len(X_test)"
   ]
  },
  {
   "cell_type": "code",
   "execution_count": 194,
   "metadata": {},
   "outputs": [],
   "source": [
    "def store_labeled_image(predicted_label, x_dim, y_dim, path): \n",
    "\n",
    "    hypso_color_label = { 0 : [0,0,139], \n",
    "                        1 : [13,152,186], \n",
    "                        2 : [144,238,144], \n",
    "                        3 : [1,50,32], \n",
    "                        4 : [240,0,0], \n",
    "                        5 : [20,20,20], \n",
    "                        6 : [255,255,255], \n",
    "                        7 : [194,178,128], \n",
    "                        8 : [180,180,180], \n",
    "                        9 : [100,100,100], \n",
    "                        10 : [200,200,0]   \n",
    "    }\n",
    "\n",
    "\n",
    "    #t=255\n",
    "    for i in range(len(hypso_color_label)): \n",
    "        cmap[i] = np.array(hypso_color_label[i] + [255])/255\n",
    "\n",
    "    new_predicted_label = copy.deepcopy(predicted_label)\n",
    "    new_predicted_label = np.array(new_predicted_label)\n",
    "\n",
    "    np.save(path, new_predicted_label)\n",
    "\n",
    "    yout_color = newColorLabels(new_predicted_label,x_dim,y_dim, hypso_color_label)\n",
    "\n",
    "    plt.imshow(yout_color)\n",
    "    plt.axis('off')\n",
    "    plt.savefig(path, dpi = 300, bbox_inches=\"tight\")\n",
    "    plt.close()\n",
    "        "
   ]
  },
  {
   "cell_type": "code",
   "execution_count": 195,
   "metadata": {},
   "outputs": [],
   "source": [
    "store_labeled_image(pl, len(test_data), len(test_data[0]), \"test\")"
   ]
  },
  {
   "cell_type": "code",
   "execution_count": 44,
   "metadata": {},
   "outputs": [
    {
     "name": "stdout",
     "output_type": "stream",
     "text": [
      "The training time is: 0.107 sec.\n"
     ]
    }
   ],
   "source": [
    "import scipy.io as sc\n",
    "gt = sc.loadmat(\"../Training_data/end3.mat\")\n",
    "samson = sc.loadmat(\"../Training_data/samson.mat\")['V']\n",
    "labels = np.argmax(gt['A'].T.reshape((-1,3)), axis=1)\n",
    "\n",
    "new_labels = copy.deepcopy(labels)\n",
    "#new_labels[new_labels == 1] = 0  \n",
    "samson = reshape_sj(copy.deepcopy(samson))\n",
    "\n",
    "X = samson.transpose(0,2,1).reshape((-1,156))\n",
    "#X = preprocessing.scale(X, axis=0)\n",
    "y = new_labels.flatten()\n",
    "\n",
    "# split samson into train test sets\n",
    "X_train, X_test, y_train, y_test = train_test_split(X,y, test_size=0.5, random_state=1)\n",
    "\n",
    "tb = {0 : [[0,1],[2]], 1 : [[[0],[1]],[]]}\n",
    "svm_tb = {0 : LinearSVC(C = 1, class_weight=\"balanced\", intercept_scaling=1), 1 : [LinearSVC(C = 1, class_weight=\"balanced\", intercept_scaling=1), False]}\n",
    "#svm_tb = {0 : SVM(), 1 : [SVM(), False]}\n",
    "\n",
    "svm_branch_models = SvmDesionTreeTrain(X_train, y_train, tb, svm_tb)"
   ]
  },
  {
   "cell_type": "code",
   "execution_count": 31,
   "metadata": {},
   "outputs": [],
   "source": [
    "svm_branch_models_to_bin(svm_branch_models[0],-2.373)\n",
    "svm_branch_models_to_bin(svm_branch_models[1][0],-0.52)"
   ]
  },
  {
   "cell_type": "code",
   "execution_count": 32,
   "metadata": {},
   "outputs": [],
   "source": [
    "def bdt_execute(X, bdt): \n",
    "\n",
    "    # bdt : [svm_model_classes, send_index1, send_index2]\n",
    "    \n",
    "    svm_models = linear_svm_models_load(\"svm_model_files/\", bdt)\n",
    "    svm_models_index = 0 \n",
    "    prevoius_index = 0 \n",
    "    pixel_holder = 0 \n",
    "    labeled_image = [] \n",
    "\n",
    "    for i in range(len(X)): \n",
    "\n",
    "        svm_models_index = 0\n",
    "\n",
    "        while(True):\n",
    "\n",
    "            prevoius_index = svm_models_index\n",
    "\n",
    "            pixel_holder = svm_linear(X[i], svm_models[svm_models_index])\n",
    "\n",
    "            if(pixel_holder >= 0): \n",
    "                svm_models_index = int(bdt[svm_models_index][1])\n",
    "\n",
    "            else: \n",
    "                svm_models_index = int(bdt[svm_models_index][2])\n",
    "\n",
    "            if(svm_models_index == 0): \n",
    "\n",
    "                if(pixel_holder >= 0): \n",
    "                    labeled_image.append(svm_models[prevoius_index][0])\n",
    "                else: \n",
    "                    labeled_image.append(svm_models[prevoius_index][1])\n",
    "\n",
    "                break\n",
    "\n",
    "    return labeled_image, svm_models"
   ]
  },
  {
   "cell_type": "code",
   "execution_count": 33,
   "metadata": {},
   "outputs": [],
   "source": [
    "#s_bdt = [[\"0203\", \"1\", \"0\"],[\"0209\", \"0\", \"0\"]]\n",
    "s_bdt = [[\"0002\", \"1\", \"0\"], [\"0001\", \"0\", \"0\"]]\n",
    "bdt = bdt_string_to_config_format(s_bdt)\n",
    "pl, svm_models = bdt_execute(X, bdt)"
   ]
  },
  {
   "cell_type": "code",
   "execution_count": 34,
   "metadata": {},
   "outputs": [],
   "source": [
    "pl = np.array(pl)\n",
    "plt.imshow(pl.reshape(95,95))\n",
    "plt.axis('off')\n",
    "plt.savefig(\"Samson_few_labels2\", dpi = 300, bbox_inches=\"tight\")\n",
    "plt.close()"
   ]
  },
  {
   "cell_type": "code",
   "execution_count": 35,
   "metadata": {},
   "outputs": [
    {
     "data": {
      "text/plain": [
       "array([0, 1, 2])"
      ]
     },
     "execution_count": 35,
     "metadata": {},
     "output_type": "execute_result"
    }
   ],
   "source": [
    "classesInLabels(pl)"
   ]
  },
  {
   "cell_type": "code",
   "execution_count": 36,
   "metadata": {},
   "outputs": [
    {
     "data": {
      "text/plain": [
       "0.9785041551246537"
      ]
     },
     "execution_count": 36,
     "metadata": {},
     "output_type": "execute_result"
    }
   ],
   "source": [
    "np.sum(pl == y)/len(y)"
   ]
  },
  {
   "cell_type": "code",
   "execution_count": 37,
   "metadata": {},
   "outputs": [
    {
     "data": {
      "text/plain": [
       "'../Onboard_classifiication/Implementation/src/../../../Ground_Training/svm_model_files/'"
      ]
     },
     "execution_count": 37,
     "metadata": {},
     "output_type": "execute_result"
    }
   ],
   "source": [
    "\"../Onboard_classifiication/Implementation/src/../../../Ground_Training/svm_model_files/\""
   ]
  },
  {
   "cell_type": "code",
   "execution_count": 38,
   "metadata": {},
   "outputs": [],
   "source": [
    "def analyse_labeled_satellite_images(file_path):\n",
    "    import struct\n",
    "    with open(file_path, mode='rb') as file: # b is important -> binary\n",
    "        fileContent = file.read()\n",
    "    filesize = len(fileContent)\n",
    "    unpack_opt = str(filesize) + \"B\"\n",
    "    return struct.unpack(unpack_opt, fileContent)\n",
    "\n"
   ]
  },
  {
   "cell_type": "code",
   "execution_count": 39,
   "metadata": {},
   "outputs": [],
   "source": [
    "labeled_image = analyse_labeled_satellite_images(\"label_image_bin/los_angeles\")"
   ]
  },
  {
   "cell_type": "code",
   "execution_count": 47,
   "metadata": {},
   "outputs": [],
   "source": [
    "import numpy as np\n",
    "classesInLabels(labeled_image)\n",
    "\n",
    "test_name = \"../Training_data/losangeles_2023-01-31_1756Z-bin3.png\"\n",
    "test_data = plt.imread(test_name)\n",
    "\n",
    "\n",
    "labeled_image = np.array(labeled_image)\n",
    "plt.imshow(labeled_image.reshape(len(test_data),len(test_data[0])))\n",
    "plt.axis('off')\n",
    "plt.savefig(\"los_angeles\", dpi = 300, bbox_inches=\"tight\")\n",
    "plt.close()"
   ]
  },
  {
   "cell_type": "code",
   "execution_count": 41,
   "metadata": {},
   "outputs": [
    {
     "data": {
      "text/plain": [
       "array([2, 3])"
      ]
     },
     "execution_count": 41,
     "metadata": {},
     "output_type": "execute_result"
    }
   ],
   "source": [
    "classesInLabels(labeled_image)"
   ]
  },
  {
   "cell_type": "code",
   "execution_count": 42,
   "metadata": {},
   "outputs": [
    {
     "data": {
      "text/plain": [
       "('2', '9')"
      ]
     },
     "execution_count": 42,
     "metadata": {},
     "output_type": "execute_result"
    }
   ],
   "source": [
    "int_to_svm_model_name(41)"
   ]
  },
  {
   "cell_type": "code",
   "execution_count": 43,
   "metadata": {},
   "outputs": [],
   "source": [
    "# 0 Water \n",
    "# 1 Strange Water \n",
    "# 2 Light Forest \n",
    "# 3 Dark Forest \n",
    "# 4 Urban \n",
    "# 5 Rock \n",
    "# 6 Ice \n",
    "# 7 Sand\n",
    "# 8 Thick Clouds \n",
    "# 9 Thin Clouds \n",
    "# 10 Crop "
   ]
  }
 ],
 "metadata": {
  "kernelspec": {
   "display_name": "Python 3",
   "language": "python",
   "name": "python3"
  },
  "language_info": {
   "codemirror_mode": {
    "name": "ipython",
    "version": 3
   },
   "file_extension": ".py",
   "mimetype": "text/x-python",
   "name": "python",
   "nbconvert_exporter": "python",
   "pygments_lexer": "ipython3",
   "version": "3.10.10"
  },
  "orig_nbformat": 4,
  "vscode": {
   "interpreter": {
    "hash": "059b92ebffe316512df3810dcdd9739bd5d694b60baa1e9e8136193b1cf34557"
   }
  }
 },
 "nbformat": 4,
 "nbformat_minor": 2
}
