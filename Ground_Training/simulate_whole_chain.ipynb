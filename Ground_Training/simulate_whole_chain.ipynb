{
 "cells": [
  {
   "cell_type": "code",
   "execution_count": 306,
   "metadata": {},
   "outputs": [],
   "source": [
    "import numpy as np\n",
    "\n",
    "\n",
    "class SVM:\n",
    "\n",
    "    def __init__(self, C = 1.0):\n",
    "        # C = error term\n",
    "        self.C = C\n",
    "        self.w = 0\n",
    "        self.b = 0\n",
    "\n",
    "    # Hinge Loss Function / Calculation\n",
    "    def hingeloss(self, w, b, x, y):\n",
    "        # Regularizer term\n",
    "        reg = 0.5 * (w * w)\n",
    "\n",
    "        for i in range(x.shape[0]):\n",
    "            # Optimization term\n",
    "            opt_term = y[i] * ((np.dot(w, x[i])) + b)\n",
    "\n",
    "            # calculating loss\n",
    "            loss = reg + self.C * max(0, 1-opt_term)\n",
    "        return loss[0][0]\n",
    "\n",
    "    def fit(self, X, Y, batch_size=100000, learning_rate=0.0001, epochs=1000):\n",
    "        # The number of features in X\n",
    "        number_of_features = X.shape[1]\n",
    "\n",
    "        # The number of Samples in X\n",
    "        number_of_samples = X.shape[0]\n",
    "\n",
    "        c = self.C\n",
    "\n",
    "        # Creating ids from 0 to number_of_samples - 1\n",
    "        ids = np.arange(number_of_samples)\n",
    "\n",
    "        # Shuffling the samples randomly\n",
    "        np.random.shuffle(ids)\n",
    "\n",
    "        # creating an array of zeros\n",
    "        w = np.zeros((1, number_of_features))\n",
    "        b = 0\n",
    "        losses = []\n",
    "\n",
    "        # Gradient Descent logic\n",
    "        for i in range(epochs):\n",
    "            # Calculating the Hinge Loss\n",
    "            l = self.hingeloss(w, b, X, Y)\n",
    "\n",
    "            # Appending all losses \n",
    "            losses.append(l)\n",
    "            \n",
    "            # Starting from 0 to the number of samples with batch_size as interval\n",
    "            for batch_initial in range(0, number_of_samples, batch_size):\n",
    "                gradw = 0\n",
    "                gradb = 0\n",
    "\n",
    "                for j in range(batch_initial, batch_initial+ batch_size):\n",
    "                    if j < number_of_samples:\n",
    "                        x = ids[j]\n",
    "                        ti = Y[x] * (np.dot(w, X[x].T) + b)\n",
    "\n",
    "                        if ti > 1:\n",
    "                            gradw += 0\n",
    "                            gradb += 0\n",
    "                        else:\n",
    "                            # Calculating the gradients\n",
    "\n",
    "                            #w.r.t w \n",
    "                            gradw += c * Y[x] * X[x]\n",
    "                            # w.r.t b\n",
    "                            gradb += c * Y[x]\n",
    "\n",
    "                # Updating weights and bias\n",
    "                w = w - learning_rate * w + learning_rate * gradw\n",
    "                b = b + learning_rate * gradb\n",
    "        \n",
    "        self.w = w\n",
    "        self.b = b\n",
    "\n",
    "        return self.w, self.b, losses\n",
    "\n",
    "    def predict(self, X):\n",
    "        prediction = np.dot(X, self.w[0]) + self.b # w.x + b\n",
    "        return np.sign(prediction)"
   ]
  },
  {
   "cell_type": "code",
   "execution_count": 1920,
   "metadata": {},
   "outputs": [],
   "source": [
    "def float_to_int_delta(value, byte):\n",
    "    max_value = 50\n",
    "    v = copy.deepcopy(value)\n",
    "    delta = max_value/(pow(2,8*byte)-1)\n",
    "    converted_int = int(v/delta)\n",
    "\n",
    "    if(converted_int >= (pow(2,8*byte)/2)-1): \n",
    "        return int(pow(2,8*byte)/2)-1\n",
    "    \n",
    "    elif(converted_int <= -(pow(2,8*byte)/2)+1): \n",
    "        return -int(pow(2,8*byte)/2)+1\n",
    "    \n",
    "    else: \n",
    "        return converted_int\n",
    "\n",
    "def int_to_float_delta(value, byte): \n",
    "    max_value = 50\n",
    "    v = copy.deepcopy(value)\n",
    "    delta = max_value/(pow(2,8*byte)-1)\n",
    "    return v*delta"
   ]
  },
  {
   "cell_type": "code",
   "execution_count": 1921,
   "metadata": {},
   "outputs": [
    {
     "data": {
      "text/plain": [
       "23.999389639124132"
      ]
     },
     "execution_count": 1921,
     "metadata": {},
     "output_type": "execute_result"
    }
   ],
   "source": [
    "int_to_float_delta(float_to_int_delta(24,2),2)"
   ]
  },
  {
   "cell_type": "code",
   "execution_count": 1922,
   "metadata": {},
   "outputs": [],
   "source": [
    "def int_to_svm_model_name(value): \n",
    "    first_value = int((value - value%16)/16)\n",
    "    second_value = value%16\n",
    "    return str(first_value), str(second_value) "
   ]
  },
  {
   "cell_type": "code",
   "execution_count": 1923,
   "metadata": {},
   "outputs": [],
   "source": [
    "def string_int_to_hex_int(str_hex): \n",
    "    return 16*int(str_hex[0]) + int(str_hex[1]) "
   ]
  },
  {
   "cell_type": "code",
   "execution_count": 1924,
   "metadata": {},
   "outputs": [],
   "source": [
    "def linear_train_int_bin(file_path, class_1, class_2, b, w): \n",
    "        #svm_model format: [class1, class2, b, w_i[]]\n",
    "\n",
    "    #Modus: type of svm model. Linear, rbf, sparse etc.\n",
    "\n",
    "    import struct \n",
    "    \n",
    "    svm_model_name = \"\"\n",
    "\n",
    "    c1 = str(class_1) \n",
    "    c2 = str(class_2)\n",
    "\n",
    "    if(len(c1) == 1): \n",
    "        c1 = \"0\" + c1\n",
    "\n",
    "    if(len(c2) == 1): \n",
    "        c2 = \"0\" + c2\n",
    "\n",
    "    svm_model_name = \"lsm\" + c1 + c2\n",
    "\n",
    "    file = open(file_path + svm_model_name, \"wb\")    \n",
    "    \n",
    "    buf = struct.pack(\"BB\", class_1, class_2)\n",
    "\n",
    "    file.write(buf)\n",
    "\n",
    "    buf = struct.pack('h', b)\n",
    "\n",
    "    file.write(buf)\n",
    "\n",
    "    w_size = str(len(w)) + \"h\"\n",
    "\n",
    "    buf = struct.pack(w_size, *w)\n",
    "    \n",
    "    file.write(buf)\n",
    "\n",
    "    file.close()\n",
    "\n",
    "    return 0"
   ]
  },
  {
   "cell_type": "code",
   "execution_count": 1925,
   "metadata": {},
   "outputs": [],
   "source": [
    "def bdt_config_bin(file_path, bdt_config_aray, config_num):\n",
    "\n",
    "    import struct \n",
    "\n",
    "    bca = np.array(bdt_config_aray).flatten()\n",
    "\n",
    "    bdt_config_name = \"bdtc\" + str(config_num)\n",
    "    \n",
    "    file = open(file_path + bdt_config_name, \"wb\")\n",
    "\n",
    "    for i in range(len(bca)):\n",
    "        buf = struct.pack(\">B\", bca[i]) \n",
    "        file.write(buf)\n",
    "\n",
    "    file.close()"
   ]
  },
  {
   "cell_type": "code",
   "execution_count": 1926,
   "metadata": {},
   "outputs": [],
   "source": [
    "def hsi_binary(file_path, filename, X):\n",
    "\n",
    "    pH = np.array(X).flatten()\n",
    "        \n",
    "    file = open(file_path + filename, \"wb\")\n",
    "\n",
    "    for i in range(len(pH)):\n",
    "        buf = struct.pack(\">B\", pH[i]) \n",
    "        file.write(buf)\n",
    "\n",
    "    file.close()\n"
   ]
  },
  {
   "cell_type": "code",
   "execution_count": 1927,
   "metadata": {},
   "outputs": [],
   "source": [
    "def models_names(bdt, model_names): \n",
    "    \n",
    "    svm_model_list = []\n",
    "\n",
    "    for i in range(len(bdt)): \n",
    "        c1, c2 = int_to_svm_model_name(bdt[i][0])\n",
    "        \n",
    "        if(len(c1) == 1): \n",
    "            c1 = \"0\" + c1\n",
    "\n",
    "        if(len(c2) == 1): \n",
    "            c2 = \"0\" + c2\n",
    "\n",
    "        svm_model_list.append(str(model_names) + str(c1) + str(c2)) \n",
    "\n",
    "    return svm_model_list"
   ]
  },
  {
   "cell_type": "code",
   "execution_count": 1928,
   "metadata": {},
   "outputs": [],
   "source": [
    "def linear_svm_models_load(path, bdt): \n",
    "\n",
    "    import os \n",
    "    import struct\n",
    "\n",
    "    svm_models_array = []\n",
    "\n",
    "    svm_default_name = \"lsm\"\n",
    "\n",
    "    svm_model_list = models_names(bdt, svm_default_name)\n",
    "\n",
    "    for i in range(len(svm_model_list)): \n",
    "        file = open(path + svm_model_list[i], \"rb\")\n",
    "\n",
    "        unpack_opt = \"2b\" + str(int(os.stat(path + svm_model_list[i]).st_size/2 - 1))  + \"h\"\n",
    "        content = struct.unpack(unpack_opt,file.read())\n",
    "\n",
    "        svm_model = []\n",
    "        svm_model.append(content[0])\n",
    "        svm_model.append(content[1])\n",
    "\n",
    "        for j in range(2,len(content)): \n",
    "            svm_model.append(int_to_float_delta(content[j],2))\n",
    "        \n",
    "        svm_models_array.append(svm_model)\n",
    "\n",
    "        file.close()\n",
    "\n",
    "    return svm_models_array  "
   ]
  },
  {
   "cell_type": "code",
   "execution_count": 1929,
   "metadata": {},
   "outputs": [],
   "source": [
    "def rotate_image(image): \n",
    "    rotated_image = []\n",
    "    for i in range(len(image[0])): \n",
    "        x_array = []\n",
    "        for j in range(len(image)-1,-1,-1):\n",
    "            x_array.append(image[j][i])\n",
    "        rotated_image.append(x_array)\n",
    "\n",
    "    return np.array(rotated_image)"
   ]
  },
  {
   "cell_type": "code",
   "execution_count": 1930,
   "metadata": {},
   "outputs": [],
   "source": [
    "def svm_branch_models_to_bin(svm_branch_model, b_extra):\n",
    "\n",
    "    sbm = copy.deepcopy(svm_branch_model)\n",
    "    class_1 = sbm.classes_[0]\n",
    "    class_2 = sbm.classes_[1]\n",
    "    b = float_to_int_delta(sbm.intercept_[0] + b_extra ,2)\n",
    "    w = sbm.coef_[0]\n",
    "    tw = []\n",
    "\n",
    "    for i in range(len(w)): \n",
    "        tw.append(float_to_int_delta(w[i],2))\n",
    "\n",
    "    linear_train_int_bin(\"svm_model_files/\", class_1, class_2, b, tw)"
   ]
  },
  {
   "cell_type": "code",
   "execution_count": 1931,
   "metadata": {},
   "outputs": [
    {
     "name": "stdout",
     "output_type": "stream",
     "text": [
      "[[35, 1, 2]]\n"
     ]
    }
   ],
   "source": [
    "def bdt_string_to_config_format(bdt):\n",
    "\n",
    "    config_bdt = []\n",
    "\n",
    "    for i in range(len(bdt)): \n",
    "        bdt_index = []\n",
    "        bdt_i = copy.deepcopy(bdt[i][0]) \n",
    "\n",
    "        if(bdt_i[2] == \"0\"): \n",
    "            bdt_i = bdt_i[0] + bdt_i[1] + bdt_i[3] \n",
    "\n",
    "        if(bdt_i[0] == \"0\"): \n",
    "            bdt_i = bdt_i[1] + bdt_i[2]\n",
    "\n",
    "        bdt_index.append(string_int_to_hex_int(bdt_i))\n",
    "        bdt_index.append(int(bdt[i][1]))\n",
    "        bdt_index.append(int(bdt[i][2]))\n",
    "        config_bdt.append(bdt_index)\n",
    "\n",
    "    return config_bdt\n",
    "\n",
    "bdt = bdt_string_to_config_format([[\"0203\", \"1\", \"2\"]])\n",
    "\n",
    "print(bdt)\n",
    "\n",
    "#linear_svm_models_load(\"svm_model_files\", bdt)"
   ]
  },
  {
   "cell_type": "code",
   "execution_count": 3221,
   "metadata": {},
   "outputs": [],
   "source": [
    "def svm_linear(X_i, svm_model):\n",
    "    pred = 0 \n",
    "\n",
    "    for i in range(len(X_i)): \n",
    "        #pred += (X_i[i] * svm_model[3+i]) + svm_model[2]\n",
    "        pred = np.dot(X_i, np.array(svm_model[3:len(X_i)+3]).T) + svm_model[2]\n",
    "    if(pred >= 0): \n",
    "        return 1\n",
    "    else:\n",
    "        return -1"
   ]
  },
  {
   "cell_type": "code",
   "execution_count": 2694,
   "metadata": {},
   "outputs": [],
   "source": [
    "def bdt_execute(X, bdt): \n",
    "\n",
    "    # bdt : [svm_model_classes, send_index1, send_index2]\n",
    "    \n",
    "    svm_models = linear_svm_models_load(\"svm_model_files/\", bdt)\n",
    "    svm_models_index = 0 \n",
    "    prevoius_index = 0 \n",
    "    pixel_holder = 0 \n",
    "    labeled_image = [] \n",
    "\n",
    "    for i in range(len(X)): \n",
    "\n",
    "        svm_models_index = 0\n",
    "\n",
    "        while(True):\n",
    "\n",
    "            prevoius_index = svm_models_index\n",
    "\n",
    "            pixel_holder = svm_linear(X[i], svm_models[svm_models_index])\n",
    "\n",
    "            if(pixel_holder >= 0): \n",
    "                svm_models_index = bdt[svm_models_index][1]\n",
    "\n",
    "            else: \n",
    "                svm_models_index = bdt[svm_models_index][2]\n",
    "\n",
    "            if(svm_models_index == 0): \n",
    "\n",
    "                if(pixel_holder >= 0): \n",
    "                    labeled_image.append(svm_models[prevoius_index][0])\n",
    "                else: \n",
    "                    labeled_image.append(svm_models[prevoius_index][1])\n",
    "\n",
    "                break\n",
    "\n",
    "    return labeled_image, svm_models"
   ]
  },
  {
   "cell_type": "code",
   "execution_count": 3301,
   "metadata": {},
   "outputs": [
    {
     "name": "stdout",
     "output_type": "stream",
     "text": [
      "[2 3 9]\n"
     ]
    },
    {
     "name": "stderr",
     "output_type": "stream",
     "text": [
      "C:\\Users\\jonas\\AppData\\Local\\Packages\\PythonSoftwareFoundation.Python.3.10_qbz5n2kfra8p0\\LocalCache\\local-packages\\Python310\\site-packages\\sklearn\\svm\\_base.py:1225: ConvergenceWarning: Liblinear failed to converge, increase the number of iterations.\n",
      "  warnings.warn(\n"
     ]
    },
    {
     "name": "stdout",
     "output_type": "stream",
     "text": [
      "The training time is: 0.833 sec.\n"
     ]
    },
    {
     "name": "stderr",
     "output_type": "stream",
     "text": [
      "C:\\Users\\jonas\\AppData\\Local\\Packages\\PythonSoftwareFoundation.Python.3.10_qbz5n2kfra8p0\\LocalCache\\local-packages\\Python310\\site-packages\\sklearn\\svm\\_base.py:1225: ConvergenceWarning: Liblinear failed to converge, increase the number of iterations.\n",
      "  warnings.warn(\n"
     ]
    }
   ],
   "source": [
    "from SVMBDT import *\n",
    "from HelperFunctions_ import *\n",
    "import matplotlib.pyplot as plt\n",
    "from sklearn.model_selection import train_test_split\n",
    "\n",
    "trondheim_data = plt.imread(\"../Training_data/Trondheim_2022_08_23T10_26_43-bin3.png\")\n",
    "trondheim_gt = np.load(\"../Training_data/Trondheim_labels_2022-08-23.npz\")[\"labels\"]\n",
    "\n",
    "#Preprocess the labeling \n",
    "\n",
    "new_trondheim_gt = []\n",
    "y = trondheim_gt.flatten()\n",
    "\n",
    "for i in range(0,len(y),3): \n",
    "    new_trondheim_gt.append(y[i])\n",
    "\n",
    "new_trondheim_gt = np.array(new_trondheim_gt)\n",
    "\n",
    "#Make labels into land, water and clouds \n",
    "#water  = 2\n",
    "#cropland = 3\n",
    "#pasture = 4\n",
    "#city = 5\n",
    "#rock = 6\n",
    "#thin_forest = 7\n",
    "#thick_forest = 8 \n",
    "#cloud = 9\n",
    "#thin_clouds = 10\n",
    "\n",
    "trondheim_new_labels = copy.deepcopy(new_trondheim_gt)\n",
    "\n",
    "\n",
    "trondheim_new_labels[trondheim_new_labels == 10] = 9\n",
    "#trondheim_new_labels[trondheim_new_labels == 9] = 3\n",
    "\n",
    "nl = [4,5,6,7,8]\n",
    "\n",
    "for i in range(len(nl)):\n",
    "        trondheim_new_labels[trondheim_new_labels == nl[i]] = 3\n",
    "\n",
    "print(classesInLabels(trondheim_new_labels))\n",
    "\n",
    "new_trondheim = rotate_image(trondheim_data)\n",
    "\n",
    "X = np.array(new_trondheim).reshape((-1,3))\n",
    "#X = preprocessing.scale(X, axis=0)\n",
    "y = trondheim_new_labels.flatten()\n",
    "\n",
    "X_train, X_test, y_train, y_test = train_test_split(X,y, test_size=0.9, random_state=1)\n",
    "\n",
    "\n",
    "tb = {0 : [[3,9],[2]], 1 : [[[3],[9]],[]]}\n",
    "svm_tb = {0 : LinearSVC(C = 10000, class_weight=\"balanced\", intercept_scaling=10), 1 : [LinearSVC(C = 100000, class_weight=\"balanced\", intercept_scaling=10), False]}\n",
    "#svm_tb = {0 : SVM(), 1 : [SVM(), False]}\n",
    "\n",
    "svm_branch_models = SvmDesionTreeTrain(X_train, y_train, tb, svm_tb)"
   ]
  },
  {
   "cell_type": "code",
   "execution_count": 3306,
   "metadata": {},
   "outputs": [],
   "source": [
    "svm_branch_models_to_bin(svm_branch_models[0],0)\n",
    "svm_branch_models_to_bin(svm_branch_models[1][0],0)\n"
   ]
  },
  {
   "cell_type": "code",
   "execution_count": 3312,
   "metadata": {},
   "outputs": [
    {
     "data": {
      "text/plain": [
       "28.828351711683826"
      ]
     },
     "execution_count": 3312,
     "metadata": {},
     "output_type": "execute_result"
    }
   ],
   "source": [
    "np.max(svm_branch_models[0].coef_)"
   ]
  },
  {
   "cell_type": "code",
   "execution_count": 3307,
   "metadata": {},
   "outputs": [],
   "source": [
    "s_bdt = [[\"0203\", \"1\", \"0\"],[\"0309\", \"0\", \"0\"]]\n",
    "#s_bdt = [[\"0203\", \"0\", \"0\"]]\n",
    "bdt = bdt_string_to_config_format(s_bdt)\n",
    "\n",
    "pl, svm_models = bdt_execute(X, bdt)"
   ]
  },
  {
   "cell_type": "code",
   "execution_count": 3308,
   "metadata": {},
   "outputs": [],
   "source": [
    "pl = np.array(pl)\n",
    "plt.imshow(pl.reshape(956,228))\n",
    "plt.axis('off')\n",
    "plt.savefig(\"Tronhdeim_few_labels\", dpi = 300, bbox_inches=\"tight\")\n",
    "plt.close()"
   ]
  },
  {
   "cell_type": "code",
   "execution_count": 3309,
   "metadata": {},
   "outputs": [
    {
     "data": {
      "text/plain": [
       "array([2, 3, 9])"
      ]
     },
     "execution_count": 3309,
     "metadata": {},
     "output_type": "execute_result"
    }
   ],
   "source": [
    "classesInLabels(pl)"
   ]
  },
  {
   "cell_type": "code",
   "execution_count": 3252,
   "metadata": {},
   "outputs": [
    {
     "name": "stdout",
     "output_type": "stream",
     "text": [
      "The training time is: 0.096 sec.\n"
     ]
    }
   ],
   "source": [
    "import scipy.io as sc\n",
    "gt = sc.loadmat(\"../Training_data/end3.mat\")\n",
    "samson = sc.loadmat(\"../Training_data/samson.mat\")['V']\n",
    "labels = np.argmax(gt['A'].T.reshape((-1,3)), axis=1)\n",
    "\n",
    "new_labels = copy.deepcopy(labels)\n",
    "#new_labels[new_labels == 1] = 0  \n",
    "samson = reshape_sj(copy.deepcopy(samson))\n",
    "\n",
    "X = samson.transpose(0,2,1).reshape((-1,156))\n",
    "#X = preprocessing.scale(X, axis=0)\n",
    "y = new_labels.flatten()\n",
    "\n",
    "# split samson into train test sets\n",
    "X_train, X_test, y_train, y_test = train_test_split(X,y, test_size=0.5, random_state=1)\n",
    "\n",
    "tb = {0 : [[0,1],[2]], 1 : [[[0],[1]],[]]}\n",
    "svm_tb = {0 : LinearSVC(C = 1, class_weight=\"balanced\", intercept_scaling=1), 1 : [LinearSVC(C = 1, class_weight=\"balanced\", intercept_scaling=1), False]}\n",
    "#svm_tb = {0 : SVM(), 1 : [SVM(), False]}\n",
    "\n",
    "svm_branch_models = SvmDesionTreeTrain(X_train, y_train, tb, svm_tb)"
   ]
  },
  {
   "cell_type": "code",
   "execution_count": 3253,
   "metadata": {},
   "outputs": [
    {
     "data": {
      "text/plain": [
       "array([2.38868645])"
      ]
     },
     "execution_count": 3253,
     "metadata": {},
     "output_type": "execute_result"
    }
   ],
   "source": [
    "svm_branch_models[0].intercept_"
   ]
  },
  {
   "cell_type": "code",
   "execution_count": 3254,
   "metadata": {},
   "outputs": [
    {
     "data": {
      "text/plain": [
       "array([[ 2.48186935e-02,  5.77005520e-02,  7.57320988e-02,\n",
       "         8.43664487e-02,  9.57984486e-02,  9.98822773e-02,\n",
       "         9.48867906e-02,  8.51054187e-02,  8.09195876e-02,\n",
       "         7.47124583e-02,  6.36640213e-02,  8.54990184e-02,\n",
       "         9.12733043e-02,  8.95557319e-02,  9.48909609e-02,\n",
       "         1.23260132e-01,  1.46012388e-01,  1.59560018e-01,\n",
       "         1.57325283e-01,  1.47705500e-01,  1.32440630e-01,\n",
       "         1.32846883e-01,  1.30727534e-01,  1.51567960e-01,\n",
       "         1.77288463e-01,  1.88942645e-01,  1.79006201e-01,\n",
       "         1.82486678e-01,  1.85048973e-01,  2.05292803e-01,\n",
       "         2.33871648e-01,  2.51255809e-01,  2.65163907e-01,\n",
       "         2.67942807e-01,  2.70443787e-01,  2.89770604e-01,\n",
       "         2.92498659e-01,  3.10776975e-01,  3.09471541e-01,\n",
       "         3.18207205e-01,  3.19962687e-01,  3.12337793e-01,\n",
       "         3.27145073e-01,  3.36167302e-01,  3.20894985e-01,\n",
       "         3.12143961e-01,  3.04539155e-01,  3.17633870e-01,\n",
       "         3.13374412e-01,  3.14633903e-01,  3.19770303e-01,\n",
       "         3.22754104e-01,  3.27065504e-01,  3.05772884e-01,\n",
       "         2.86575375e-01,  2.73071856e-01,  2.85315348e-01,\n",
       "         2.60992277e-01,  2.51933723e-01,  2.29170701e-01,\n",
       "         2.06279199e-01,  1.86213080e-01,  1.53427855e-01,\n",
       "         1.22090160e-01,  9.71147742e-02,  1.05327476e-01,\n",
       "         1.07160627e-01,  9.98520761e-02,  8.71560449e-02,\n",
       "         7.46532561e-02,  7.83954048e-02,  7.48644650e-02,\n",
       "         5.87565906e-02,  4.45965397e-02,  2.41022933e-02,\n",
       "         1.17924401e-02,  2.61556678e-02,  2.93304443e-02,\n",
       "         1.26693141e-02, -1.24768270e-02, -1.10276795e-02,\n",
       "        -9.14411245e-03, -1.87042197e-02, -2.91575874e-02,\n",
       "        -3.45414695e-02, -3.92043080e-02, -2.24963308e-02,\n",
       "        -7.12257967e-04, -4.84123307e-03, -3.66324254e-02,\n",
       "        -8.32918460e-02, -1.65929309e-01, -2.23936261e-01,\n",
       "        -2.94824304e-01, -3.40071636e-01, -4.13533386e-01,\n",
       "        -4.77420985e-01, -5.48209589e-01, -6.45016275e-01,\n",
       "        -6.97321259e-01, -7.39229948e-01, -7.53565663e-01,\n",
       "        -7.80006990e-01, -8.08036457e-01, -8.35212975e-01,\n",
       "        -8.55812310e-01, -8.67027111e-01, -8.77754991e-01,\n",
       "        -8.82676608e-01, -8.73802673e-01, -8.14962167e-01,\n",
       "        -8.47925421e-01, -9.16512934e-01, -9.96498313e-01,\n",
       "        -9.59342711e-01, -9.29904129e-01, -9.37819607e-01,\n",
       "        -9.69923474e-01, -9.94593982e-01, -9.79630834e-01,\n",
       "        -9.54082582e-01, -9.46002870e-01, -9.74566476e-01,\n",
       "        -1.01568539e+00, -1.03925100e+00, -1.04922729e+00,\n",
       "        -1.01574859e+00, -9.65686478e-01, -9.24023349e-01,\n",
       "        -9.35850417e-01, -9.30899368e-01, -9.38002044e-01,\n",
       "        -8.97754399e-01, -8.82009356e-01, -8.78244292e-01,\n",
       "        -8.58621837e-01, -8.71691469e-01, -8.78251124e-01,\n",
       "        -9.07253417e-01, -9.00274079e-01, -8.87951542e-01,\n",
       "        -8.63580511e-01, -8.86948260e-01, -9.15413592e-01,\n",
       "        -9.01968599e-01, -9.05402917e-01, -8.45331879e-01,\n",
       "        -8.65963126e-01, -8.22431857e-01, -8.24023303e-01,\n",
       "        -8.33322036e-01, -8.10686747e-01, -8.20341516e-01,\n",
       "        -7.19628253e-01, -6.59590034e-01,  6.81879440e-02]])"
      ]
     },
     "execution_count": 3254,
     "metadata": {},
     "output_type": "execute_result"
    }
   ],
   "source": [
    "svm_branch_models[0].coef_"
   ]
  },
  {
   "cell_type": "code",
   "execution_count": 3255,
   "metadata": {},
   "outputs": [],
   "source": [
    "svm_branch_models_to_bin(svm_branch_models[0],0)\n",
    "svm_branch_models_to_bin(svm_branch_models[1][0],0)"
   ]
  },
  {
   "cell_type": "code",
   "execution_count": 3256,
   "metadata": {},
   "outputs": [],
   "source": [
    "#s_bdt = [[\"0203\", \"1\", \"0\"],[\"0209\", \"0\", \"0\"]]\n",
    "s_bdt = [[\"0002\", \"0\", \"0\"], [\"0001\", \"0\", \"0\"]]\n",
    "bdt = bdt_string_to_config_format(s_bdt)\n",
    "pl, svm_models = bdt_execute(X, bdt)"
   ]
  },
  {
   "cell_type": "code",
   "execution_count": 3257,
   "metadata": {},
   "outputs": [],
   "source": [
    "pl = np.array(pl)\n",
    "plt.imshow(pl.reshape(95,95))\n",
    "plt.axis('off')\n",
    "plt.savefig(\"Samson_few_labels\", dpi = 300, bbox_inches=\"tight\")\n",
    "plt.close()"
   ]
  },
  {
   "cell_type": "code",
   "execution_count": 3258,
   "metadata": {},
   "outputs": [
    {
     "data": {
      "text/plain": [
       "array([0, 2])"
      ]
     },
     "execution_count": 3258,
     "metadata": {},
     "output_type": "execute_result"
    }
   ],
   "source": [
    "classesInLabels(pl)"
   ]
  },
  {
   "cell_type": "code",
   "execution_count": 3259,
   "metadata": {},
   "outputs": [
    {
     "data": {
      "text/plain": [
       "0.008310249307479225"
      ]
     },
     "execution_count": 3259,
     "metadata": {},
     "output_type": "execute_result"
    }
   ],
   "source": [
    "np.sum(pl == y)/len(y)"
   ]
  },
  {
   "cell_type": "code",
   "execution_count": null,
   "metadata": {},
   "outputs": [],
   "source": []
  }
 ],
 "metadata": {
  "kernelspec": {
   "display_name": "Python 3",
   "language": "python",
   "name": "python3"
  },
  "language_info": {
   "codemirror_mode": {
    "name": "ipython",
    "version": 3
   },
   "file_extension": ".py",
   "mimetype": "text/x-python",
   "name": "python",
   "nbconvert_exporter": "python",
   "pygments_lexer": "ipython3",
   "version": "3.10.10"
  },
  "orig_nbformat": 4,
  "vscode": {
   "interpreter": {
    "hash": "059b92ebffe316512df3810dcdd9739bd5d694b60baa1e9e8136193b1cf34557"
   }
  }
 },
 "nbformat": 4,
 "nbformat_minor": 2
}
